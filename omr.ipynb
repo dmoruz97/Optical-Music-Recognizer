{
 "cells": [
  {
   "cell_type": "markdown",
   "metadata": {},
   "source": [
    "## Libraries import"
   ]
  },
  {
   "cell_type": "code",
   "execution_count": 1,
   "metadata": {},
   "outputs": [],
   "source": [
    "# General imports\n",
    "from __future__ import print_function, division\n",
    "import os\n",
    "#from engine import train_one_epoch, evaluate\n",
    "import utils\n",
    "import transforms as T\n",
    "import matplotlib.pyplot as plt\n",
    "import time\n",
    "import random\n",
    "import imutils\n",
    "import cv2\n",
    "import glob\n",
    "from tqdm import tqdm\n",
    "import tensorflow as tf\n",
    "\n",
    "# Pandas\n",
    "import pandas as pd\n",
    "\n",
    "# PyTorch\n",
    "import torch\n",
    "from torch.autograd import Variable\n",
    "import torch.nn as nn\n",
    "from torch.nn import Linear, ReLU, CrossEntropyLoss, Sequential, Conv2d, MaxPool2d, Module, Softmax, BatchNorm2d, Dropout\n",
    "import torch.nn.functional as F\n",
    "import torch.optim as optim\n",
    "from torch.optim import Adam, SGD\n",
    "from torch.optim.lr_scheduler import LambdaLR\n",
    "from torch.utils.data import Dataset, DataLoader\n",
    "from torch.utils.data.sampler import SubsetRandomSampler\n",
    "\n",
    "import torchvision\n",
    "from torchvision import transforms, utils\n",
    "\n",
    "from PIL import Image\n",
    "\n",
    "# scikit-learn\n",
    "from skimage import io, transform\n",
    "from sklearn.model_selection import train_test_split\n",
    "\n",
    "# Numpy\n",
    "import numpy as np\n",
    "\n",
    "# Ignore warnings\n",
    "import warnings\n",
    "#warnings.filterwarnings(\"ignore\")\n",
    "\n",
    "plt.ion()   # interactive mode"
   ]
  },
  {
   "cell_type": "markdown",
   "metadata": {},
   "source": [
    "## Dataset import"
   ]
  },
  {
   "cell_type": "code",
   "execution_count": 2,
   "metadata": {},
   "outputs": [],
   "source": [
    "#directory = \"/Users/davide/Desktop/IVU project/Project2/dataset_transformations\"\n",
    "directory = \"/Users/davide/Desktop/IVU project/Project2/dataset_original\"\n",
    "\n",
    "class ScoreDataset(Dataset):        \n",
    "    \n",
    "    # GET NOTE AND REST DATASET\n",
    "    def get_note_rest_dataset(self):\n",
    "        data_images = []\n",
    "        data_labels = []\n",
    "        classes = set()\n",
    "        num_classes = 0\n",
    "        features = 0  # Flattened image size\n",
    "        \n",
    "        os.chdir(\"/Users/davide/Desktop/IVU project/Project2/dataset_original\")\n",
    "        for file in glob.glob('*.png'):\n",
    "            name = file.split('-')\n",
    "            if (name[0] == \"note\"):\n",
    "                classes.add(\"note\")\n",
    "            elif (name[0] == \"rest\"):\n",
    "                classes.add(\"rest\")\n",
    "                \n",
    "        classes = list(classes)\n",
    "        classes.sort()\n",
    "        num_classes = len(classes)\n",
    "        print(str(num_classes) + \" classes found:\")\n",
    "        print(classes)\n",
    "        \n",
    "        # Creates the training set in a convenient format\n",
    "        for file in glob.glob('*.png'):\n",
    "            name = file.split('-')\n",
    "            \n",
    "            if (name[0] == \"note\"):\n",
    "                data_labels.append(0)\n",
    "            elif (name[0] == \"rest\"):\n",
    "                data_labels.append(1)\n",
    "                \n",
    "            img = io.imread(file)#, as_gray=True)\n",
    "            #img = img.flatten()\n",
    "            img = np.array(img)\n",
    "            \n",
    "            features = len(img)\n",
    "            data_images.append(img)\n",
    "                \n",
    "        os.chdir('..')\n",
    "        \n",
    "        return data_images, data_labels, classes\n",
    "    \n",
    "    # GET NOTE DURATION DATASET\n",
    "    def get_note_duration_dataset(self):\n",
    "        data_images = []\n",
    "        data_labels = []\n",
    "        classes = set()\n",
    "        num_classes = 0\n",
    "        features = 0  # Flattened image size\n",
    "        \n",
    "        os.chdir(directory)\n",
    "        for file in glob.glob('*.png'):\n",
    "            name = file.split('-')\n",
    "            if (name[0] == \"note\"):\n",
    "                if name[1] != \"other\":\n",
    "                    classes.add(name[1])\n",
    "                \n",
    "        classes = list(classes)\n",
    "        classes.sort()\n",
    "        num_classes = len(classes)\n",
    "        print(str(num_classes) + \" classes found:\")\n",
    "        print(classes)\n",
    "        \n",
    "        # Creates the training set in a convenient format\n",
    "        for file in glob.glob('*.png'):\n",
    "            name = file.split('-')\n",
    "            \n",
    "            if (name[0] == \"note\"):\n",
    "                if name[1] != \"other\":\n",
    "                    if name[1] == \"eighth\":\n",
    "                        data_labels.append(0)\n",
    "                    elif name[1] == \"half\":\n",
    "                        data_labels.append(1)\n",
    "                    elif name[1] == \"quarter\":\n",
    "                        data_labels.append(2)\n",
    "                    elif name[1] == \"sixteenth\":\n",
    "                        data_labels.append(3)\n",
    "                    elif name[1] == \"whole\":\n",
    "                        data_labels.append(4)\n",
    "                \n",
    "                    img = io.imread(file)#, as_gray=True)\n",
    "                    #img = img.flatten()\n",
    "                    img = np.array(img)\n",
    "\n",
    "                    features = len(img)\n",
    "                    data_images.append(img)\n",
    "                \n",
    "        os.chdir('..')\n",
    "        \n",
    "        return data_images, data_labels, classes\n",
    "        \n",
    "    # GET REST DURATION DATASET\n",
    "    def get_rest_duration_dataset(self):\n",
    "        data_images = []\n",
    "        data_labels = []\n",
    "        classes = set()\n",
    "        num_classes = 0\n",
    "        features = 0  # Flattened image size\n",
    "        \n",
    "        os.chdir(directory)\n",
    "        for file in glob.glob('*.png'):\n",
    "            name = file.split('-')\n",
    "            if (name[0] == \"rest\"):\n",
    "                classes.add(name[1])\n",
    "                \n",
    "        classes = list(classes)\n",
    "        classes.sort()\n",
    "        num_classes = len(classes)\n",
    "        print(str(num_classes) + \" classes found:\")\n",
    "        print(classes)\n",
    "        \n",
    "        # Creates the training set in a convenient format\n",
    "        for file in glob.glob('*.png'):\n",
    "            name = file.split('-')\n",
    "            \n",
    "            if (name[0] == \"rest\"):\n",
    "                if name[1] == \"eighth\":\n",
    "                    data_labels.append(0)\n",
    "                elif name[1] == \"half\":\n",
    "                    data_labels.append(1)\n",
    "                elif name[1] == \"quarter\":\n",
    "                    data_labels.append(2)\n",
    "                elif name[1] == \"sixteenth\":\n",
    "                    data_labels.append(3)\n",
    "                elif name[1] == \"whole\":\n",
    "                    data_labels.append(4)\n",
    "                \n",
    "                img = io.imread(file)#, as_gray=True)\n",
    "                #img = img.flatten()\n",
    "                img = np.array(img)\n",
    "\n",
    "                features = len(img)\n",
    "                data_images.append(img)\n",
    "                \n",
    "        os.chdir('..')\n",
    "        \n",
    "        return data_images, data_labels, classes\n",
    "    \n",
    "    # GET NOTE PITCH DATASET\n",
    "    def get_note_pitch_dataset(self):\n",
    "        data_images = []\n",
    "        data_labels = []\n",
    "        classes = set()\n",
    "        num_classes = 0\n",
    "        features = 0  # Flattened image size\n",
    "        \n",
    "        os.chdir(directory)\n",
    "        for file in glob.glob('*.png'):\n",
    "            name = file.split('-')\n",
    "            if (name[0] == \"note\"):\n",
    "                if name[2] != \"other\":\n",
    "                    classes.add(name[2])\n",
    "                \n",
    "        classes = list(classes)\n",
    "        classes.sort()\n",
    "        num_classes = len(classes)\n",
    "        print(str(num_classes) + \" classes found:\")\n",
    "        print(classes)\n",
    "        \n",
    "        # Creates the training set in a convenient format\n",
    "        for file in glob.glob('*.png'):\n",
    "            name = file.split('-')\n",
    "            \n",
    "            if (name[0] == \"note\"):\n",
    "                if name[2] != \"other\":\n",
    "                    if name[2] == \"a\": data_labels.append(0)\n",
    "                    elif name[2] == \"a1\": data_labels.append(1)\n",
    "                    elif name[2] == \"a2\": data_labels.append(2)\n",
    "                    elif name[2] == \"c1\": data_labels.append(3)\n",
    "                    elif name[2] == \"c2\": data_labels.append(4)\n",
    "                    elif name[2] == \"c3\": data_labels.append(5)\n",
    "                    elif name[2] == \"d1\": data_labels.append(6)\n",
    "                    elif name[2] == \"d2\": data_labels.append(7)\n",
    "                    elif name[2] == \"e1\": data_labels.append(8)\n",
    "                    elif name[2] == \"e2\": data_labels.append(9)\n",
    "                    elif name[2] == \"f1\": data_labels.append(10)\n",
    "                    elif name[2] == \"f2\": data_labels.append(11)\n",
    "                    elif name[2] == \"g1\": data_labels.append(12)\n",
    "                    elif name[2] == \"g2\": data_labels.append(13)\n",
    "                    elif name[2] == \"h\": data_labels.append(14)\n",
    "                    elif name[2] == \"h1\": data_labels.append(15)\n",
    "                    elif name[2] == \"h2\": data_labels.append(16)\n",
    "\n",
    "                    img = io.imread(file)#, as_gray=True)\n",
    "                    #img = img.flatten()\n",
    "                    img = np.array(img)\n",
    "\n",
    "                    features = len(img)\n",
    "                    data_images.append(img)\n",
    "                \n",
    "        os.chdir('..')\n",
    "        \n",
    "        return data_images, data_labels, classes\n",
    "    \n",
    "    # Function to split dataset into Train and Test\n",
    "    def create_train_test_set(self, data_images, data_labels):\n",
    "        X_train, X_test, y_train, y_test = train_test_split(data_images, data_labels, test_size=0.3, random_state=42)\n",
    "        return X_train, X_test, y_train, y_test\n",
    "    \n",
    "    # Function to print the distribution of the classes in the dataset\n",
    "    def print_distribution(self, data_labels, classes):\n",
    "        arr = {}\n",
    "        for value in classes:\n",
    "            arr[value] = 0\n",
    "        \n",
    "        for label in data_labels:\n",
    "            arr[classes[label]] = arr[classes[label]] + 1\n",
    "                \n",
    "        print (\"Distribution:\")\n",
    "        print(arr)"
   ]
  },
  {
   "cell_type": "code",
   "execution_count": 3,
   "metadata": {},
   "outputs": [],
   "source": [
    "score_dataset = ScoreDataset()"
   ]
  },
  {
   "cell_type": "markdown",
   "metadata": {},
   "source": [
    "## Note and Rest dataset"
   ]
  },
  {
   "cell_type": "code",
   "execution_count": 4,
   "metadata": {},
   "outputs": [
    {
     "name": "stdout",
     "output_type": "stream",
     "text": [
      "2 classes found:\n",
      "['note', 'rest']\n",
      "\n",
      "\n",
      "Dataset length: 3824\n",
      "\n",
      "\n",
      "Distribution:\n",
      "{'note': 3272, 'rest': 552}\n"
     ]
    }
   ],
   "source": [
    "note_rest_images, note_rest_labels, note_rest_classes = score_dataset.get_note_rest_dataset()\n",
    "print(\"\\n\")\n",
    "\n",
    "print(\"Dataset length: {}\".format(len(note_rest_images)))\n",
    "\n",
    "print(\"\\n\")\n",
    "score_dataset.print_distribution(note_rest_labels, note_rest_classes)"
   ]
  },
  {
   "cell_type": "markdown",
   "metadata": {},
   "source": [
    "## Note duration dataset"
   ]
  },
  {
   "cell_type": "code",
   "execution_count": 5,
   "metadata": {},
   "outputs": [
    {
     "name": "stdout",
     "output_type": "stream",
     "text": [
      "5 classes found:\n",
      "['eighth', 'half', 'quarter', 'sixteenth', 'whole']\n",
      "\n",
      "\n",
      "Dataset length: 3262\n",
      "\n",
      "\n",
      "Distribution:\n",
      "{'eighth': 1305, 'half': 449, 'quarter': 1184, 'sixteenth': 276, 'whole': 48}\n"
     ]
    }
   ],
   "source": [
    "note_duration_images, note_duration_labels, note_duration_classes = score_dataset.get_note_duration_dataset()\n",
    "print(\"\\n\")\n",
    "\n",
    "print(\"Dataset length: {}\".format(len(note_duration_images)))\n",
    "\n",
    "print(\"\\n\")\n",
    "score_dataset.print_distribution(note_duration_labels, note_duration_classes)"
   ]
  },
  {
   "cell_type": "markdown",
   "metadata": {},
   "source": [
    "## Rest duration dataset"
   ]
  },
  {
   "cell_type": "code",
   "execution_count": 6,
   "metadata": {},
   "outputs": [
    {
     "name": "stdout",
     "output_type": "stream",
     "text": [
      "5 classes found:\n",
      "['eighth', 'half', 'quarter', 'sixteenth', 'whole']\n",
      "\n",
      "\n",
      "Dataset length: 552\n",
      "\n",
      "\n",
      "Distribution:\n",
      "{'eighth': 266, 'half': 32, 'quarter': 216, 'sixteenth': 1, 'whole': 37}\n"
     ]
    }
   ],
   "source": [
    "rest_duration_images, rest_duration_labels, rest_duration_classes = score_dataset.get_rest_duration_dataset()\n",
    "print(\"\\n\")\n",
    "\n",
    "print(\"Dataset length: {}\".format(len(rest_duration_images)))\n",
    "\n",
    "print(\"\\n\")\n",
    "score_dataset.print_distribution(rest_duration_labels, rest_duration_classes)"
   ]
  },
  {
   "cell_type": "markdown",
   "metadata": {},
   "source": [
    "## Note pitch dataset"
   ]
  },
  {
   "cell_type": "code",
   "execution_count": 7,
   "metadata": {},
   "outputs": [
    {
     "name": "stdout",
     "output_type": "stream",
     "text": [
      "17 classes found:\n",
      "['a', 'a1', 'a2', 'c1', 'c2', 'c3', 'd1', 'd2', 'e1', 'e2', 'f1', 'f2', 'g1', 'g2', 'h', 'h1', 'h2']\n",
      "\n",
      "\n",
      "Dataset length: 3271\n",
      "\n",
      "\n",
      "Distribution:\n",
      "{'a': 43, 'a1': 428, 'a2': 20, 'c1': 173, 'c2': 270, 'c3': 1, 'd1': 255, 'd2': 244, 'e1': 398, 'e2': 147, 'f1': 368, 'f2': 54, 'g1': 371, 'g2': 22, 'h': 99, 'h1': 368, 'h2': 10}\n"
     ]
    }
   ],
   "source": [
    "note_pitch_images, note_pitch_labels, note_pitch_classes = score_dataset.get_note_pitch_dataset()\n",
    "print(\"\\n\")\n",
    "\n",
    "print(\"Dataset length: {}\".format(len(note_pitch_images)))\n",
    "\n",
    "print(\"\\n\")\n",
    "score_dataset.print_distribution(note_pitch_labels, note_pitch_classes)"
   ]
  },
  {
   "cell_type": "code",
   "execution_count": 8,
   "metadata": {},
   "outputs": [
    {
     "name": "stdout",
     "output_type": "stream",
     "text": [
      "Train size: 2676\n",
      "Test size: 1148\n"
     ]
    }
   ],
   "source": [
    "# Train and Test split (CHANGE DATASET!!!)\n",
    "data_images, test_images, data_labels, test_labels = score_dataset.create_train_test_set(note_rest_images, note_rest_labels)\n",
    "\n",
    "print(\"Train size: {}\".format(len(data_images)))\n",
    "print(\"Test size: {}\".format(len(test_images)))"
   ]
  },
  {
   "cell_type": "markdown",
   "metadata": {},
   "source": [
    "### Dataset class"
   ]
  },
  {
   "cell_type": "code",
   "execution_count": 9,
   "metadata": {},
   "outputs": [],
   "source": [
    "class OMRDataset(Dataset):\n",
    "    def __init__(self, images, labels, transform=None):\n",
    "        self.images = images\n",
    "        self.labels = labels\n",
    "        self.transform = transform\n",
    "        \n",
    "        for i,item in enumerate(images):\n",
    "            if self.transform is not None:\n",
    "                img_transformed = self.transform(item)\n",
    "                self.images[i] = img_transformed\n",
    "        \n",
    "    def __getitem__(self, idx):\n",
    "        if torch.is_tensor(idx):\n",
    "            idx = idx.tolist()\n",
    "        \n",
    "        if self.transform is not None:\n",
    "            img_transformed = self.transform(self.images[idx])\n",
    "            \n",
    "        return self.images[idx], self.labels[idx]\n",
    "\n",
    "    def __len__(self):\n",
    "        return len(self.images)"
   ]
  },
  {
   "cell_type": "code",
   "execution_count": 10,
   "metadata": {},
   "outputs": [
    {
     "name": "stdout",
     "output_type": "stream",
     "text": [
      "2676\n",
      "1148\n"
     ]
    }
   ],
   "source": [
    "# Transformations to be applied\n",
    "transformations = transforms.Compose([transforms.ToPILImage(),\n",
    "                                      #transforms.Grayscale(),\n",
    "                                      transforms.ToTensor(),\n",
    "                                      transforms.Normalize((0.5,), (0.5,))\n",
    "                                      #transforms.Normalize(mean=[0.485, 0.456, 0.406],\n",
    "                                                           #std=[0.229, 0.224, 0.225])\n",
    "                                     ])\n",
    "\n",
    "train_dataset = OMRDataset(data_images,\n",
    "                           data_labels,\n",
    "                           transform=transformations)\n",
    "\n",
    "test_dataset = OMRDataset(test_images,\n",
    "                          test_labels,\n",
    "                          transform=transformations)\n",
    "\n",
    "print(OMRDataset.__len__(train_dataset))\n",
    "print(OMRDataset.__len__(test_dataset))"
   ]
  },
  {
   "cell_type": "code",
   "execution_count": 11,
   "metadata": {},
   "outputs": [
    {
     "name": "stdout",
     "output_type": "stream",
     "text": [
      "{'note': 970, 'rest': 178}\n"
     ]
    }
   ],
   "source": [
    "# NOTE AND REST\n",
    "note_rest_tot_classes_test = {\"note\": 0, \"rest\": 0}\n",
    "for x in test_dataset:\n",
    "    if (x[1] == 0):\n",
    "        note_rest_tot_classes_test[\"note\"] += 1\n",
    "    else:\n",
    "        note_rest_tot_classes_test[\"rest\"] += 1\n",
    "print(note_rest_tot_classes_test)"
   ]
  },
  {
   "cell_type": "code",
   "execution_count": 12,
   "metadata": {},
   "outputs": [
    {
     "name": "stdout",
     "output_type": "stream",
     "text": [
      "{'eighth': 970, 'half': 178, 'quarter': 0, 'sixteenth': 0, 'whole': 0}\n"
     ]
    }
   ],
   "source": [
    "# NOTE DURATION\n",
    "note_duration_tot_classes_test = {\"eighth\": 0, \"half\": 0, \"quarter\": 0, \"sixteenth\": 0, \"whole\": 0}\n",
    "for x in test_dataset:\n",
    "    if x[1] == 0: note_duration_tot_classes_test[\"eighth\"] += 1\n",
    "    elif x[1] == 1: note_duration_tot_classes_test[\"half\"] += 1\n",
    "    elif x[1] == 2: note_duration_tot_classes_test[\"quarter\"] += 1\n",
    "    elif x[1] == 3: note_duration_tot_classes_test[\"sixteenth\"] += 1\n",
    "    elif x[1] == 4: note_duration_tot_classes_test[\"whole\"] += 1\n",
    "print(note_duration_tot_classes_test)"
   ]
  },
  {
   "cell_type": "code",
   "execution_count": 13,
   "metadata": {},
   "outputs": [
    {
     "name": "stdout",
     "output_type": "stream",
     "text": [
      "{'eighth': 970, 'half': 178, 'quarter': 0, 'sixteenth': 0, 'whole': 0}\n"
     ]
    }
   ],
   "source": [
    "# REST DURATION\n",
    "rest_duration_tot_classes_test = {\"eighth\": 0, \"half\": 0, \"quarter\": 0, \"sixteenth\": 0, \"whole\": 0}\n",
    "for x in test_dataset:\n",
    "    if x[1] == 0: rest_duration_tot_classes_test[\"eighth\"] += 1\n",
    "    elif x[1] == 1: rest_duration_tot_classes_test[\"half\"] += 1\n",
    "    elif x[1] == 2: rest_duration_tot_classes_test[\"quarter\"] += 1\n",
    "    elif x[1] == 3: rest_duration_tot_classes_test[\"sixteenth\"] += 1\n",
    "    elif x[1] == 4: rest_duration_tot_classes_test[\"whole\"] += 1\n",
    "print(rest_duration_tot_classes_test)"
   ]
  },
  {
   "cell_type": "code",
   "execution_count": 14,
   "metadata": {},
   "outputs": [
    {
     "name": "stdout",
     "output_type": "stream",
     "text": [
      "{'a': 970, 'a1': 178, 'a2': 0, 'c1': 0, 'c2': 0, 'c3': 0, 'd1': 0, 'd2': 0, 'e1': 0, 'e2': 0, 'f1': 0, 'f2': 0, 'g1': 0, 'g2': 0, 'h': 0, 'h1': 0, 'h2': 0}\n"
     ]
    }
   ],
   "source": [
    "# NOTE PITCH\n",
    "note_pitch_tot_classes_test = {\"a\": 0, \"a1\": 0, \"a2\": 0, \"c1\": 0, \"c2\": 0, \"c3\": 0, \"d1\": 0, \"d2\": 0, \"e1\": 0,\n",
    "                               \"e2\": 0, \"f1\": 0, \"f2\": 0, \"g1\": 0, \"g2\": 0, \"h\": 0, \"h1\": 0, \"h2\": 0}\n",
    "for x in test_dataset:\n",
    "    if x[1] == 0: note_pitch_tot_classes_test[\"a\"] += 1\n",
    "    elif x[1] == 1: note_pitch_tot_classes_test[\"a1\"] += 1\n",
    "    elif x[1] == 2: note_pitch_tot_classes_test[\"a2\"] += 1\n",
    "    elif x[1] == 3: note_pitch_tot_classes_test[\"c1\"] += 1\n",
    "    elif x[1] == 4: note_pitch_tot_classes_test[\"c2\"] += 1\n",
    "    elif x[1] == 5: note_pitch_tot_classes_test[\"c3\"] += 1\n",
    "    elif x[1] == 6: note_pitch_tot_classes_test[\"d1\"] += 1\n",
    "    elif x[1] == 7: note_pitch_tot_classes_test[\"d2\"] += 1\n",
    "    elif x[1] == 8: note_pitch_tot_classes_test[\"e1\"] += 1\n",
    "    elif x[1] == 9: note_pitch_tot_classes_test[\"e2\"] += 1\n",
    "    elif x[1] == 10: note_pitch_tot_classes_test[\"f1\"] += 1\n",
    "    elif x[1] == 11: note_pitch_tot_classes_test[\"f2\"] += 1\n",
    "    elif x[1] == 12: note_pitch_tot_classes_test[\"g1\"] += 1\n",
    "    elif x[1] == 13: note_pitch_tot_classes_test[\"g2\"] += 1\n",
    "    elif x[1] == 14: note_pitch_tot_classes_test[\"h\"] += 1\n",
    "    elif x[1] == 15: note_pitch_tot_classes_test[\"h1\"] += 1\n",
    "    elif x[1] == 16: note_pitch_tot_classes_test[\"h2\"] += 1\n",
    "                                \n",
    "print(note_pitch_tot_classes_test)"
   ]
  },
  {
   "cell_type": "code",
   "execution_count": 15,
   "metadata": {
    "collapsed": true
   },
   "outputs": [
    {
     "name": "stdout",
     "output_type": "stream",
     "text": [
      "(tensor([[[1., 1., 1.,  ..., 1., 1., 1.],\n",
      "         [1., 1., 1.,  ..., 1., 1., 1.],\n",
      "         [1., 1., 1.,  ..., 1., 1., 1.],\n",
      "         ...,\n",
      "         [1., 1., 1.,  ..., 1., 1., 1.],\n",
      "         [1., 1., 1.,  ..., 1., 1., 1.],\n",
      "         [1., 1., 1.,  ..., 1., 1., 1.]]]), 0)\n",
      "torch.Size([1, 50, 30])\n",
      "0\n"
     ]
    }
   ],
   "source": [
    "img_sample = OMRDataset.__getitem__(train_dataset, 100)\n",
    "print(img_sample)\n",
    "print(img_sample[0].shape)\n",
    "print(img_sample[1])"
   ]
  },
  {
   "cell_type": "code",
   "execution_count": 16,
   "metadata": {},
   "outputs": [],
   "source": [
    "# Function used to print all the info about a sample\n",
    "def print_sample(sample):\n",
    "    print(sample)\n",
    "    \n",
    "    #a = sample['image']\n",
    "    a = sample[0]\n",
    "    \n",
    "    a_np = np.asarray(a)\n",
    "    plt.imshow(tf.squeeze(a_np))\n",
    "    plt.show()"
   ]
  },
  {
   "cell_type": "code",
   "execution_count": 17,
   "metadata": {
    "collapsed": true
   },
   "outputs": [
    {
     "name": "stdout",
     "output_type": "stream",
     "text": [
      "(tensor([[[1., 1., 1.,  ..., 1., 1., 1.],\n",
      "         [1., 1., 1.,  ..., 1., 1., 1.],\n",
      "         [1., 1., 1.,  ..., 1., 1., 1.],\n",
      "         ...,\n",
      "         [1., 1., 1.,  ..., 1., 1., 1.],\n",
      "         [1., 1., 1.,  ..., 1., 1., 1.],\n",
      "         [1., 1., 1.,  ..., 1., 1., 1.]]]), 0)\n"
     ]
    },
    {
     "data": {
      "image/png": "[encoded data removed]",
      "text/plain": [
       "<Figure size 432x288 with 1 Axes>"
      ]
     },
     "metadata": {
      "needs_background": "light"
     },
     "output_type": "display_data"
    }
   ],
   "source": [
    "# Print a selected item of the test dataset\n",
    "print_sample(OMRDataset.__getitem__(test_dataset,500))"
   ]
  },
  {
   "cell_type": "code",
   "execution_count": 18,
   "metadata": {
    "collapsed": true
   },
   "outputs": [
    {
     "name": "stdout",
     "output_type": "stream",
     "text": [
      "(tensor([[[1., 1., 1.,  ..., 1., 1., 1.],\n",
      "         [1., 1., 1.,  ..., 1., 1., 1.],\n",
      "         [1., 1., 1.,  ..., 1., 1., 1.],\n",
      "         ...,\n",
      "         [1., 1., 1.,  ..., 1., 1., 1.],\n",
      "         [1., 1., 1.,  ..., 1., 1., 1.],\n",
      "         [1., 1., 1.,  ..., 1., 1., 1.]]]), 0)\n"
     ]
    },
    {
     "data": {
      "image/png": "[encoded data removed]",
      "text/plain": [
       "<Figure size 432x288 with 1 Axes>"
      ]
     },
     "metadata": {
      "needs_background": "light"
     },
     "output_type": "display_data"
    }
   ],
   "source": [
    "# Print a random item of the transformed dataset\n",
    "print_sample(OMRDataset.__getitem__(train_dataset, random.randint(0,OMRDataset.__len__(train_dataset))))"
   ]
  },
  {
   "cell_type": "markdown",
   "metadata": {},
   "source": [
    "# Convolutional steps"
   ]
  },
  {
   "cell_type": "markdown",
   "metadata": {},
   "source": [
    "### General parameters"
   ]
  },
  {
   "cell_type": "code",
   "execution_count": 17,
   "metadata": {},
   "outputs": [
    {
     "name": "stdout",
     "output_type": "stream",
     "text": [
      "cpu\n"
     ]
    }
   ],
   "source": [
    "device = torch.device('cuda:0' if torch.cuda.is_available() else 'cpu')\n",
    "print(device)\n",
    "\n",
    "config = {'lr': 1e-4,\n",
    "          'momentum': 0.9,\n",
    "          'weight_decay': 0.001,\n",
    "          'batch_size': 1,  # due to small number of images in the dataset (otherwise bad prediction)\n",
    "          'epochs': 10,\n",
    "          'device': 'cpu',\n",
    "          'seed': 314}\n",
    "\n",
    "# set the seeds to repeat the experiments\n",
    "if 'cuda' in config['device']:\n",
    "    torch.cuda.manual_seed_all(config['seed'])\n",
    "else:\n",
    "    torch.manual_seed(config['seed'])"
   ]
  },
  {
   "cell_type": "markdown",
   "metadata": {},
   "source": [
    "### Loss function"
   ]
  },
  {
   "cell_type": "code",
   "execution_count": 18,
   "metadata": {},
   "outputs": [],
   "source": [
    "# Return the LOSS FUNCTION\n",
    "def get_criterion():\n",
    "    criterion = torch.nn.CrossEntropyLoss()\n",
    "    #criterion = torch.nn.MSELoss()\n",
    "    #criterion = torch.nn.BCELoss()\n",
    "    \n",
    "    return criterion"
   ]
  },
  {
   "cell_type": "markdown",
   "metadata": {},
   "source": [
    "### Optimizer"
   ]
  },
  {
   "cell_type": "code",
   "execution_count": 19,
   "metadata": {},
   "outputs": [],
   "source": [
    "# Return the OPTIMIZER\n",
    "def get_optimizer(model):\n",
    "    optimizer = optim.SGD(model.parameters(),\n",
    "                          lr=config['lr'],\n",
    "                          momentum=config['momentum'],\n",
    "                          weight_decay=config['weight_decay'])\n",
    "    #optimizer = optim.Adam(model.parameters(), lr=learning_rate)\n",
    "    \n",
    "    return optimizer"
   ]
  },
  {
   "cell_type": "markdown",
   "metadata": {},
   "source": [
    "### DataLoaders"
   ]
  },
  {
   "cell_type": "code",
   "execution_count": 20,
   "metadata": {},
   "outputs": [],
   "source": [
    "train_loader = torch.utils.data.DataLoader(train_dataset, batch_size=config[\"batch_size\"], shuffle=True)\n",
    "test_loader = torch.utils.data.DataLoader(test_dataset, batch_size=config[\"batch_size\"], shuffle=False)"
   ]
  },
  {
   "cell_type": "markdown",
   "metadata": {},
   "source": [
    "### Trainer"
   ]
  },
  {
   "cell_type": "code",
   "execution_count": 21,
   "metadata": {},
   "outputs": [],
   "source": [
    "class Trainer(object):\n",
    "    def __init__(self, model, device, train_loader, test_loader, criterion, optimizer, classes, tot_classes_test):\n",
    "        self.model = model.to(device)\n",
    "        self.device = device\n",
    "        self.criterion = criterion\n",
    "        self.optimizer = optimizer\n",
    "        self.softmax = nn.Softmax(dim=1)\n",
    "        self.classes = classes\n",
    "        self.tot_classes_test = tot_classes_test\n",
    "\n",
    "        self.train_loader = train_loader\n",
    "        self.test_loader = test_loader\n",
    "\n",
    "    def train(self, epochs=10):\n",
    "        test_acc, train_acc, classes_acc = self.evaluate()\n",
    "        print('Initial accuracy')\n",
    "        print('TEST: {}'.format(test_acc))\n",
    "        print('TRAIN: {}'.format(train_acc))\n",
    "        print('Classes: {}'.format(classes_acc))\n",
    "        \n",
    "        for epoch in range(1, epochs + 1):\n",
    "            self.model.train()  # set the model to training mode\n",
    "            for images, labels in tqdm(self.train_loader, total=len(self.train_loader)):\n",
    "                self.optimizer.zero_grad()  # don't forget this line!\n",
    "                \n",
    "                images, labels = images.to(self.device), labels.to(self.device)\n",
    "\n",
    "                output = self.softmax(self.model(images))\n",
    "                loss = self.criterion(output, labels)\n",
    "                train_losses.append(loss) # Save loss (train)\n",
    "                \n",
    "                loss.backward()  # compute the derivatives of the model\n",
    "                optimizer.step()  # update weights according to the optimizer\n",
    "\n",
    "            test_acc, train_acc, classes_acc = self.evaluate()\n",
    "            test_accuracy.append(test_acc) # Save accuracy (test)\n",
    "            train_accuracy.append(train_acc) # Save accuracy (train)\n",
    "            \n",
    "            print('\\nAccuracy at epoch {}'.format(epoch))\n",
    "            print('TEST: {}'.format(test_acc))\n",
    "            print('TRAIN: {}'.format(train_acc))\n",
    "            print('Classes: {}'.format(classes_acc))\n",
    "\n",
    "    def evaluate(self):\n",
    "        self.model.eval()  # set the model to eval mode\n",
    "        total_train = 0\n",
    "        total_test = 0\n",
    "\n",
    "        classes_accuracy = {}\n",
    "        for value in self.classes:\n",
    "            classes_accuracy[value] = 0\n",
    "            \n",
    "        match_label = {}\n",
    "        for i,item in enumerate(self.classes):\n",
    "            match_label[str(i)] = str(item)\n",
    "        \n",
    "        # Accuracy TEST\n",
    "        for images, labels in tqdm(self.test_loader, total=len(self.test_loader)):\n",
    "            \n",
    "            images, labels = images.to(self.device), labels.to(self.device)\n",
    "\n",
    "            output = self.softmax(self.model(images))\n",
    "            predicted = torch.max(output, dim=1)[1]  # argmax the output\n",
    "            total_test += (predicted == labels).sum().item()\n",
    "            \n",
    "            # Accuracy per class (confusion matrix)        \n",
    "            prediction2 = int(torch.max(output.data, 1)[1].numpy())\n",
    "            acc_temp = (predicted == labels).sum().item()            \n",
    "            classes_accuracy[match_label[str(prediction2)]] += acc_temp\n",
    "        \n",
    "        for i, (k, v) in enumerate(classes_accuracy.copy().items()): # CHECK AL METODO \"copy()\"\n",
    "            classes_accuracy[k] /= self.tot_classes_test[k]\n",
    "        \n",
    "        # Accuracy TRAIN\n",
    "        for images, labels in tqdm(self.train_loader, total=len(self.train_loader)):\n",
    "            \n",
    "            images, labels = images.to(self.device), labels.to(self.device)\n",
    "\n",
    "            output = self.softmax(self.model(images))\n",
    "            predicted = torch.max(output, dim=1)[1]  # argmax the output\n",
    "            total_train += (predicted == labels).sum().item()\n",
    "\n",
    "        return total_test/len(self.test_loader.dataset), total_train/len(self.train_loader.dataset), classes_accuracy"
   ]
  },
  {
   "cell_type": "markdown",
   "metadata": {},
   "source": [
    "## NOTE AND REST"
   ]
  },
  {
   "cell_type": "code",
   "execution_count": 22,
   "metadata": {},
   "outputs": [],
   "source": [
    "class CNN(nn.Module):\n",
    "    def __init__(self):\n",
    "        super().__init__()\n",
    "        self.feat_extractor = nn.Sequential(nn.Conv2d(1, 64, 3),\n",
    "                                            nn.ReLU(),\n",
    "                                            nn.BatchNorm2d(64),\n",
    "                                            nn.MaxPool2d(2),\n",
    "                                            nn.Conv2d(64, 128, 3),\n",
    "                                            nn.ReLU(),\n",
    "                                            nn.BatchNorm2d(128),\n",
    "                                            nn.MaxPool2d(2),\n",
    "                                            nn.Conv2d(128, 256, 3),\n",
    "                                            nn.ReLU(),\n",
    "                                            nn.BatchNorm2d(256),\n",
    "                                            nn.MaxPool2d(2)\n",
    "                                           )\n",
    "\n",
    "        self.classifier = nn.Sequential(nn.Linear(2 * 4 * 256, 1024),\n",
    "                                        nn.ReLU(),\n",
    "                                        nn.Linear(1024, 1024),\n",
    "                                        nn.ReLU(),\n",
    "                                        nn.Linear(1024, 2)) # 2 is the number of classes\n",
    "\n",
    "    def forward(self, x):\n",
    "        x = self.feat_extractor(x)\n",
    "        n, c, h, w = x.shape\n",
    "        x = x.view(n, -1)\n",
    "        x = self.classifier(x)\n",
    "        return x"
   ]
  },
  {
   "cell_type": "code",
   "execution_count": 23,
   "metadata": {},
   "outputs": [],
   "source": [
    "# NOTE AND REST\n",
    "model_note_rest = CNN()\n",
    "criterion = get_criterion()\n",
    "optimizer = get_optimizer(model_note_rest)\n",
    "\n",
    "trainer = Trainer(model_note_rest, config['device'], train_loader, test_loader, criterion, optimizer, note_rest_classes, note_rest_tot_classes_test)"
   ]
  },
  {
   "cell_type": "code",
   "execution_count": 154,
   "metadata": {
    "collapsed": true
   },
   "outputs": [
    {
     "name": "stderr",
     "output_type": "stream",
     "text": [
      "100%|██████████| 1148/1148 [00:08<00:00, 129.01it/s]\n",
      "100%|██████████| 2676/2676 [00:18<00:00, 142.96it/s]\n",
      "  0%|          | 1/2676 [00:00<05:56,  7.49it/s]"
     ]
    },
    {
     "name": "stdout",
     "output_type": "stream",
     "text": [
      "Initial accuracy\n",
      "TEST: 0.8449477351916377\n",
      "TRAIN: 0.8602391629297459\n",
      "Classes: {'note': 1.0, 'rest': 0.0}\n"
     ]
    },
    {
     "name": "stderr",
     "output_type": "stream",
     "text": [
      "100%|██████████| 2676/2676 [04:15<00:00, 10.48it/s]\n",
      "100%|██████████| 1148/1148 [00:18<00:00, 61.55it/s]\n",
      "100%|██████████| 2676/2676 [00:24<00:00, 107.80it/s]\n",
      "  0%|          | 0/2676 [00:00<?, ?it/s]"
     ]
    },
    {
     "name": "stdout",
     "output_type": "stream",
     "text": [
      "\n",
      "Accuracy at epoch 1\n",
      "TEST: 0.9451219512195121\n",
      "TRAIN: 0.9644992526158446\n",
      "Classes: {'note': 0.9958762886597938, 'rest': 0.6685393258426966}\n"
     ]
    },
    {
     "name": "stderr",
     "output_type": "stream",
     "text": [
      "100%|██████████| 2676/2676 [04:27<00:00, 10.01it/s]\n",
      "100%|██████████| 1148/1148 [00:08<00:00, 139.19it/s]\n",
      "100%|██████████| 2676/2676 [00:20<00:00, 128.91it/s]\n",
      "  0%|          | 1/2676 [00:00<05:18,  8.41it/s]"
     ]
    },
    {
     "name": "stdout",
     "output_type": "stream",
     "text": [
      "\n",
      "Accuracy at epoch 2\n",
      "TEST: 0.9782229965156795\n",
      "TRAIN: 0.9891629297458894\n",
      "Classes: {'note': 0.9958762886597938, 'rest': 0.8820224719101124}\n"
     ]
    },
    {
     "name": "stderr",
     "output_type": "stream",
     "text": [
      "100%|██████████| 2676/2676 [03:54<00:00, 11.42it/s]\n",
      "100%|██████████| 1148/1148 [00:07<00:00, 145.83it/s]\n",
      "100%|██████████| 2676/2676 [00:18<00:00, 147.05it/s]\n",
      "  0%|          | 1/2676 [00:00<05:08,  8.68it/s]"
     ]
    },
    {
     "name": "stdout",
     "output_type": "stream",
     "text": [
      "\n",
      "Accuracy at epoch 3\n",
      "TEST: 0.9747386759581882\n",
      "TRAIN: 0.9891629297458894\n",
      "Classes: {'note': 0.9989690721649485, 'rest': 0.8426966292134831}\n"
     ]
    },
    {
     "name": "stderr",
     "output_type": "stream",
     "text": [
      "100%|██████████| 2676/2676 [04:20<00:00, 10.27it/s]\n",
      "100%|██████████| 1148/1148 [00:07<00:00, 144.76it/s]\n",
      "100%|██████████| 2676/2676 [00:17<00:00, 149.69it/s]\n",
      "  0%|          | 1/2676 [00:00<05:24,  8.24it/s]"
     ]
    },
    {
     "name": "stdout",
     "output_type": "stream",
     "text": [
      "\n",
      "Accuracy at epoch 4\n",
      "TEST: 0.980836236933798\n",
      "TRAIN: 0.9951420029895366\n",
      "Classes: {'note': 0.9979381443298969, 'rest': 0.8876404494382022}\n"
     ]
    },
    {
     "name": "stderr",
     "output_type": "stream",
     "text": [
      "100%|██████████| 2676/2676 [03:53<00:00, 11.45it/s]\n",
      "100%|██████████| 1148/1148 [00:07<00:00, 145.36it/s]\n",
      "100%|██████████| 2676/2676 [00:17<00:00, 150.56it/s]"
     ]
    },
    {
     "name": "stdout",
     "output_type": "stream",
     "text": [
      "\n",
      "Accuracy at epoch 5\n",
      "TEST: 0.9817073170731707\n",
      "TRAIN: 0.9943946188340808\n",
      "Classes: {'note': 0.9979381443298969, 'rest': 0.8932584269662921}\n"
     ]
    },
    {
     "name": "stderr",
     "output_type": "stream",
     "text": [
      "\n"
     ]
    }
   ],
   "source": [
    "# Getting loss\n",
    "train_losses = []\n",
    "test_losses = []\n",
    "\n",
    "# Getting accuracy\n",
    "train_accuracy = []\n",
    "test_accuracy = []\n",
    "\n",
    "trainer.train(epochs=config['epochs'])"
   ]
  },
  {
   "cell_type": "code",
   "execution_count": 155,
   "metadata": {
    "collapsed": true
   },
   "outputs": [
    {
     "data": {
      "image/png": "[encoded data removed]",
      "text/plain": [
       "<Figure size 432x288 with 1 Axes>"
      ]
     },
     "metadata": {
      "needs_background": "light"
     },
     "output_type": "display_data"
    }
   ],
   "source": [
    "# plotting the training and test loss\n",
    "plt.plot(train_losses, label='Training loss')\n",
    "plt.plot(test_losses, label='Test loss')\n",
    "plt.legend()\n",
    "plt.show()"
   ]
  },
  {
   "cell_type": "code",
   "execution_count": 156,
   "metadata": {},
   "outputs": [
    {
     "data": {
      "image/png": "[encoded data removed]",
      "text/plain": [
       "<Figure size 432x288 with 1 Axes>"
      ]
     },
     "metadata": {
      "needs_background": "light"
     },
     "output_type": "display_data"
    }
   ],
   "source": [
    "# plotting the training and test accuracy\n",
    "plt.plot(train_accuracy, label='Training accuracy')\n",
    "plt.plot(test_accuracy, label='Test accuracy')\n",
    "plt.legend()\n",
    "plt.show()"
   ]
  },
  {
   "cell_type": "markdown",
   "metadata": {},
   "source": [
    "### Save and Load model"
   ]
  },
  {
   "cell_type": "code",
   "execution_count": 165,
   "metadata": {},
   "outputs": [],
   "source": [
    "# Save model to resume later\n",
    "PATH_TO_SAVE = \"model/model_note_rest.pth\"\n",
    "\n",
    "torch.save(model_note_rest.state_dict(), PATH_TO_SAVE)"
   ]
  },
  {
   "cell_type": "code",
   "execution_count": 24,
   "metadata": {
    "collapsed": true
   },
   "outputs": [
    {
     "data": {
      "text/plain": [
       "CNN(\n",
       "  (feat_extractor): Sequential(\n",
       "    (0): Conv2d(1, 64, kernel_size=(3, 3), stride=(1, 1))\n",
       "    (1): ReLU()\n",
       "    (2): BatchNorm2d(64, eps=1e-05, momentum=0.1, affine=True, track_running_stats=True)\n",
       "    (3): MaxPool2d(kernel_size=2, stride=2, padding=0, dilation=1, ceil_mode=False)\n",
       "    (4): Conv2d(64, 128, kernel_size=(3, 3), stride=(1, 1))\n",
       "    (5): ReLU()\n",
       "    (6): BatchNorm2d(128, eps=1e-05, momentum=0.1, affine=True, track_running_stats=True)\n",
       "    (7): MaxPool2d(kernel_size=2, stride=2, padding=0, dilation=1, ceil_mode=False)\n",
       "    (8): Conv2d(128, 256, kernel_size=(3, 3), stride=(1, 1))\n",
       "    (9): ReLU()\n",
       "    (10): BatchNorm2d(256, eps=1e-05, momentum=0.1, affine=True, track_running_stats=True)\n",
       "    (11): MaxPool2d(kernel_size=2, stride=2, padding=0, dilation=1, ceil_mode=False)\n",
       "  )\n",
       "  (classifier): Sequential(\n",
       "    (0): Linear(in_features=2048, out_features=1024, bias=True)\n",
       "    (1): ReLU()\n",
       "    (2): Linear(in_features=1024, out_features=1024, bias=True)\n",
       "    (3): ReLU()\n",
       "    (4): Linear(in_features=1024, out_features=2, bias=True)\n",
       "  )\n",
       ")"
      ]
     },
     "execution_count": 24,
     "metadata": {},
     "output_type": "execute_result"
    }
   ],
   "source": [
    "# Load model\n",
    "PATH_TO_SAVE = \"model/model_note_rest.pth\"\n",
    "\n",
    "model_note_rest.load_state_dict(torch.load(PATH_TO_SAVE, map_location=torch.device('cpu')))\n",
    "model_note_rest.eval()"
   ]
  },
  {
   "cell_type": "markdown",
   "metadata": {},
   "source": [
    "## NOTE DURATION"
   ]
  },
  {
   "cell_type": "code",
   "execution_count": 25,
   "metadata": {},
   "outputs": [],
   "source": [
    "class CNN_note_duration(nn.Module):\n",
    "    def __init__(self):\n",
    "        super().__init__()\n",
    "        self.feat_extractor = nn.Sequential(nn.Conv2d(1, 64, 3),\n",
    "                                            nn.ReLU(),\n",
    "                                            nn.BatchNorm2d(64),\n",
    "                                            nn.MaxPool2d(2),\n",
    "                                            nn.Conv2d(64, 128, 3),\n",
    "                                            nn.ReLU(),\n",
    "                                            nn.BatchNorm2d(128),\n",
    "                                            nn.MaxPool2d(2),\n",
    "                                            nn.Conv2d(128, 256, 3),\n",
    "                                            nn.ReLU(),\n",
    "                                            nn.BatchNorm2d(256),\n",
    "                                            nn.MaxPool2d(2)\n",
    "                                           )\n",
    "\n",
    "        self.classifier = nn.Sequential(nn.Linear(2 * 4 * 256, 1024),\n",
    "                                        nn.ReLU(),\n",
    "                                        nn.Linear(1024, 1024),\n",
    "                                        nn.ReLU(),\n",
    "                                        nn.Linear(1024, 5)) # 5 è il numero di classi\n",
    "\n",
    "    def forward(self, x):\n",
    "        x = self.feat_extractor(x)\n",
    "        n, c, h, w = x.shape\n",
    "        x = x.view(n, -1)\n",
    "        x = self.classifier(x)\n",
    "        return x"
   ]
  },
  {
   "cell_type": "code",
   "execution_count": 26,
   "metadata": {},
   "outputs": [],
   "source": [
    "# NOTE DURATION\n",
    "model_note_duration = CNN_note_duration()\n",
    "criterion = get_criterion()\n",
    "optimizer = get_optimizer(model_note_duration)\n",
    "\n",
    "trainer = Trainer(model_note_duration, config['device'], train_loader, test_loader, criterion, optimizer, note_duration_classes, note_duration_tot_classes_test)"
   ]
  },
  {
   "cell_type": "code",
   "execution_count": 24,
   "metadata": {
    "collapsed": true
   },
   "outputs": [
    {
     "name": "stderr",
     "output_type": "stream",
     "text": [
      "100%|██████████| 979/979 [00:06<00:00, 140.29it/s]\n",
      "100%|██████████| 2283/2283 [00:15<00:00, 147.57it/s]\n",
      "  0%|          | 1/2283 [00:00<04:08,  9.18it/s]"
     ]
    },
    {
     "name": "stdout",
     "output_type": "stream",
     "text": [
      "Initial accuracy\n",
      "TEST: 0.39632277834525026\n",
      "TRAIN: 0.39640823477879983\n",
      "Classes: {'eighth': 0.9897959183673469, 'half': 0.0, 'quarter': 0.0, 'sixteenth': 0.0, 'whole': 0.0}\n"
     ]
    },
    {
     "name": "stderr",
     "output_type": "stream",
     "text": [
      "100%|██████████| 2283/2283 [02:29<00:00, 15.32it/s]\n",
      "100%|██████████| 979/979 [00:06<00:00, 146.84it/s]\n",
      "100%|██████████| 2283/2283 [00:15<00:00, 149.33it/s]\n",
      "  0%|          | 2/2283 [00:00<02:27, 15.48it/s]"
     ]
    },
    {
     "name": "stdout",
     "output_type": "stream",
     "text": [
      "\n",
      "Accuracy at epoch 1\n",
      "TEST: 0.6189989785495403\n",
      "TRAIN: 0.6303109943057381\n",
      "Classes: {'eighth': 0.9030612244897959, 'half': 0.0, 'quarter': 0.7078651685393258, 'sixteenth': 0.0, 'whole': 0.0}\n"
     ]
    },
    {
     "name": "stderr",
     "output_type": "stream",
     "text": [
      "100%|██████████| 2283/2283 [02:28<00:00, 15.38it/s]\n",
      "100%|██████████| 979/979 [00:06<00:00, 144.37it/s]\n",
      "100%|██████████| 2283/2283 [00:16<00:00, 140.68it/s]\n",
      "  0%|          | 2/2283 [00:00<02:26, 15.57it/s]"
     ]
    },
    {
     "name": "stdout",
     "output_type": "stream",
     "text": [
      "\n",
      "Accuracy at epoch 2\n",
      "TEST: 0.6782431052093973\n",
      "TRAIN: 0.7091546211125712\n",
      "Classes: {'eighth': 0.9744897959183674, 'half': 0.0, 'quarter': 0.7921348314606742, 'sixteenth': 0.0, 'whole': 0.0}\n"
     ]
    },
    {
     "name": "stderr",
     "output_type": "stream",
     "text": [
      "100%|██████████| 2283/2283 [02:27<00:00, 15.45it/s]\n",
      "100%|██████████| 979/979 [00:06<00:00, 143.55it/s]\n",
      "100%|██████████| 2283/2283 [00:25<00:00, 90.66it/s] \n",
      "  0%|          | 2/2283 [00:00<03:25, 11.08it/s]"
     ]
    },
    {
     "name": "stdout",
     "output_type": "stream",
     "text": [
      "\n",
      "Accuracy at epoch 3\n",
      "TEST: 0.7099080694586313\n",
      "TRAIN: 0.7428821725799387\n",
      "Classes: {'eighth': 0.9362244897959183, 'half': 0.0, 'quarter': 0.9213483146067416, 'sixteenth': 0.0, 'whole': 0.0}\n"
     ]
    },
    {
     "name": "stderr",
     "output_type": "stream",
     "text": [
      "100%|██████████| 2283/2283 [02:31<00:00, 15.04it/s]\n",
      "100%|██████████| 979/979 [00:07<00:00, 124.95it/s]\n",
      "100%|██████████| 2283/2283 [00:15<00:00, 144.14it/s]\n",
      "  0%|          | 2/2283 [00:00<02:36, 14.59it/s]"
     ]
    },
    {
     "name": "stdout",
     "output_type": "stream",
     "text": [
      "\n",
      "Accuracy at epoch 4\n",
      "TEST: 0.7150153217568948\n",
      "TRAIN: 0.7402540516863776\n",
      "Classes: {'eighth': 0.9770408163265306, 'half': 0.0, 'quarter': 0.8904494382022472, 'sixteenth': 0.0, 'whole': 0.0}\n"
     ]
    },
    {
     "name": "stderr",
     "output_type": "stream",
     "text": [
      "100%|██████████| 2283/2283 [02:28<00:00, 15.34it/s]\n",
      "100%|██████████| 979/979 [00:06<00:00, 146.98it/s]\n",
      "100%|██████████| 2283/2283 [00:15<00:00, 147.67it/s]\n",
      "  0%|          | 2/2283 [00:00<02:29, 15.31it/s]"
     ]
    },
    {
     "name": "stdout",
     "output_type": "stream",
     "text": [
      "\n",
      "Accuracy at epoch 5\n",
      "TEST: 0.7007150153217568\n",
      "TRAIN: 0.7240473061760841\n",
      "Classes: {'eighth': 0.9872448979591837, 'half': 0.0, 'quarter': 0.8398876404494382, 'sixteenth': 0.0, 'whole': 0.0}\n"
     ]
    },
    {
     "name": "stderr",
     "output_type": "stream",
     "text": [
      "100%|██████████| 2283/2283 [02:31<00:00, 15.09it/s]\n",
      "100%|██████████| 979/979 [00:07<00:00, 139.75it/s]\n",
      "100%|██████████| 2283/2283 [00:15<00:00, 145.16it/s]\n",
      "  0%|          | 2/2283 [00:00<02:29, 15.21it/s]"
     ]
    },
    {
     "name": "stdout",
     "output_type": "stream",
     "text": [
      "\n",
      "Accuracy at epoch 6\n",
      "TEST: 0.7231869254341164\n",
      "TRAIN: 0.7560227770477442\n",
      "Classes: {'eighth': 0.9387755102040817, 'half': 0.0, 'quarter': 0.9550561797752809, 'sixteenth': 0.0, 'whole': 0.0}\n"
     ]
    },
    {
     "name": "stderr",
     "output_type": "stream",
     "text": [
      "100%|██████████| 2283/2283 [02:28<00:00, 15.33it/s]\n",
      "100%|██████████| 979/979 [00:07<00:00, 139.53it/s]\n",
      "100%|██████████| 2283/2283 [00:16<00:00, 142.05it/s]\n",
      "  0%|          | 2/2283 [00:00<02:31, 15.08it/s]"
     ]
    },
    {
     "name": "stdout",
     "output_type": "stream",
     "text": [
      "\n",
      "Accuracy at epoch 7\n",
      "TEST: 0.7252298263534218\n",
      "TRAIN: 0.7582128777923784\n",
      "Classes: {'eighth': 0.9668367346938775, 'half': 0.3548387096774194, 'quarter': 0.8061797752808989, 'sixteenth': 0.0, 'whole': 0.0}\n"
     ]
    },
    {
     "name": "stderr",
     "output_type": "stream",
     "text": [
      "100%|██████████| 2283/2283 [02:28<00:00, 15.36it/s]\n",
      "100%|██████████| 979/979 [00:06<00:00, 143.27it/s]\n",
      "100%|██████████| 2283/2283 [00:16<00:00, 141.05it/s]\n",
      "  0%|          | 2/2283 [00:00<02:30, 15.17it/s]"
     ]
    },
    {
     "name": "stdout",
     "output_type": "stream",
     "text": [
      "\n",
      "Accuracy at epoch 8\n",
      "TEST: 0.7180796731358529\n",
      "TRAIN: 0.7542706964520368\n",
      "Classes: {'eighth': 0.9846938775510204, 'half': 0.6290322580645161, 'quarter': 0.6713483146067416, 'sixteenth': 0.0, 'whole': 0.0}\n"
     ]
    },
    {
     "name": "stderr",
     "output_type": "stream",
     "text": [
      "100%|██████████| 2283/2283 [02:29<00:00, 15.30it/s]\n",
      "100%|██████████| 979/979 [00:06<00:00, 143.49it/s]\n",
      "100%|██████████| 2283/2283 [00:16<00:00, 142.32it/s]\n",
      "  0%|          | 2/2283 [00:00<02:25, 15.63it/s]"
     ]
    },
    {
     "name": "stdout",
     "output_type": "stream",
     "text": [
      "\n",
      "Accuracy at epoch 9\n",
      "TEST: 0.7323799795709908\n",
      "TRAIN: 0.7774857643451599\n",
      "Classes: {'eighth': 0.9821428571428571, 'half': 0.7903225806451613, 'quarter': 0.6573033707865169, 'sixteenth': 0.0, 'whole': 0.0}\n"
     ]
    },
    {
     "name": "stderr",
     "output_type": "stream",
     "text": [
      "100%|██████████| 2283/2283 [02:43<00:00, 13.98it/s]\n",
      "100%|██████████| 979/979 [00:07<00:00, 139.61it/s]\n",
      "100%|██████████| 2283/2283 [00:15<00:00, 143.99it/s]"
     ]
    },
    {
     "name": "stdout",
     "output_type": "stream",
     "text": [
      "\n",
      "Accuracy at epoch 10\n",
      "TEST: 0.7773237997957099\n",
      "TRAIN: 0.8042049934296978\n",
      "Classes: {'eighth': 0.9617346938775511, 'half': 0.5080645161290323, 'quarter': 0.901685393258427, 'sixteenth': 0.0, 'whole': 0.0}\n"
     ]
    },
    {
     "name": "stderr",
     "output_type": "stream",
     "text": [
      "\n"
     ]
    }
   ],
   "source": [
    "# Getting loss\n",
    "train_losses = []\n",
    "test_losses = []\n",
    "\n",
    "# Getting accuracy\n",
    "train_accuracy = []\n",
    "test_accuracy = []\n",
    "\n",
    "trainer.train(epochs=config['epochs'])"
   ]
  },
  {
   "cell_type": "code",
   "execution_count": 25,
   "metadata": {
    "collapsed": true
   },
   "outputs": [
    {
     "data": {
      "image/png": "[encoded data removed]",
      "text/plain": [
       "<Figure size 432x288 with 1 Axes>"
      ]
     },
     "metadata": {
      "needs_background": "light"
     },
     "output_type": "display_data"
    }
   ],
   "source": [
    "# plotting the training and test loss\n",
    "plt.plot(train_losses, label='Training loss')\n",
    "plt.plot(test_losses, label='Test loss')\n",
    "plt.legend()\n",
    "plt.show()"
   ]
  },
  {
   "cell_type": "code",
   "execution_count": 26,
   "metadata": {},
   "outputs": [
    {
     "data": {
      "image/png": "[encoded data removed]",
      "text/plain": [
       "<Figure size 432x288 with 1 Axes>"
      ]
     },
     "metadata": {
      "needs_background": "light"
     },
     "output_type": "display_data"
    }
   ],
   "source": [
    "# plotting the training and test accuracy\n",
    "plt.plot(train_accuracy, label='Training accuracy')\n",
    "plt.plot(test_accuracy, label='Test accuracy')\n",
    "plt.legend()\n",
    "plt.show()"
   ]
  },
  {
   "cell_type": "markdown",
   "metadata": {},
   "source": [
    "### Save and Load model"
   ]
  },
  {
   "cell_type": "code",
   "execution_count": 27,
   "metadata": {},
   "outputs": [],
   "source": [
    "# Save model to resume later\n",
    "PATH_TO_SAVE = \"model/model_note_duration.pth\"\n",
    "\n",
    "torch.save(model_note_duration.state_dict(), PATH_TO_SAVE)"
   ]
  },
  {
   "cell_type": "code",
   "execution_count": 27,
   "metadata": {
    "collapsed": true
   },
   "outputs": [
    {
     "data": {
      "text/plain": [
       "CNN_note_duration(\n",
       "  (feat_extractor): Sequential(\n",
       "    (0): Conv2d(1, 64, kernel_size=(3, 3), stride=(1, 1))\n",
       "    (1): ReLU()\n",
       "    (2): BatchNorm2d(64, eps=1e-05, momentum=0.1, affine=True, track_running_stats=True)\n",
       "    (3): MaxPool2d(kernel_size=2, stride=2, padding=0, dilation=1, ceil_mode=False)\n",
       "    (4): Conv2d(64, 128, kernel_size=(3, 3), stride=(1, 1))\n",
       "    (5): ReLU()\n",
       "    (6): BatchNorm2d(128, eps=1e-05, momentum=0.1, affine=True, track_running_stats=True)\n",
       "    (7): MaxPool2d(kernel_size=2, stride=2, padding=0, dilation=1, ceil_mode=False)\n",
       "    (8): Conv2d(128, 256, kernel_size=(3, 3), stride=(1, 1))\n",
       "    (9): ReLU()\n",
       "    (10): BatchNorm2d(256, eps=1e-05, momentum=0.1, affine=True, track_running_stats=True)\n",
       "    (11): MaxPool2d(kernel_size=2, stride=2, padding=0, dilation=1, ceil_mode=False)\n",
       "  )\n",
       "  (classifier): Sequential(\n",
       "    (0): Linear(in_features=2048, out_features=1024, bias=True)\n",
       "    (1): ReLU()\n",
       "    (2): Linear(in_features=1024, out_features=1024, bias=True)\n",
       "    (3): ReLU()\n",
       "    (4): Linear(in_features=1024, out_features=5, bias=True)\n",
       "  )\n",
       ")"
      ]
     },
     "execution_count": 27,
     "metadata": {},
     "output_type": "execute_result"
    }
   ],
   "source": [
    "# Load model\n",
    "PATH_TO_SAVE = \"model/model_note_duration.pth\"\n",
    "\n",
    "model_note_duration.load_state_dict(torch.load(PATH_TO_SAVE, map_location=torch.device('cpu')))\n",
    "model_note_duration.eval()"
   ]
  },
  {
   "cell_type": "markdown",
   "metadata": {},
   "source": [
    "## REST DURATION"
   ]
  },
  {
   "cell_type": "code",
   "execution_count": 28,
   "metadata": {},
   "outputs": [],
   "source": [
    "class CNN_rest_duration(nn.Module):\n",
    "    def __init__(self):\n",
    "        super().__init__()\n",
    "        self.feat_extractor = nn.Sequential(nn.Conv2d(1, 64, 3),\n",
    "                                            nn.ReLU(),\n",
    "                                            nn.BatchNorm2d(64),\n",
    "                                            nn.MaxPool2d(2),\n",
    "                                            nn.Conv2d(64, 128, 3),\n",
    "                                            nn.ReLU(),\n",
    "                                            nn.BatchNorm2d(128),\n",
    "                                            nn.MaxPool2d(2),\n",
    "                                            nn.Conv2d(128, 256, 3),\n",
    "                                            nn.ReLU(),\n",
    "                                            nn.BatchNorm2d(256),\n",
    "                                            nn.MaxPool2d(2)\n",
    "                                           )\n",
    "\n",
    "        self.classifier = nn.Sequential(nn.Linear(2 * 4 * 256, 1024),\n",
    "                                        nn.ReLU(),\n",
    "                                        nn.Linear(1024, 1024),\n",
    "                                        nn.ReLU(),\n",
    "                                        nn.Linear(1024, 5)) # 5 è il numero di classi\n",
    "\n",
    "    def forward(self, x):\n",
    "        x = self.feat_extractor(x)\n",
    "        n, c, h, w = x.shape\n",
    "        #print(c,h,w)\n",
    "        x = x.view(n, -1)\n",
    "        x = self.classifier(x)\n",
    "        return x"
   ]
  },
  {
   "cell_type": "code",
   "execution_count": 29,
   "metadata": {},
   "outputs": [],
   "source": [
    "# REST DURATION\n",
    "model_rest_duration = CNN_rest_duration()\n",
    "criterion = get_criterion()\n",
    "optimizer = get_optimizer(model_rest_duration)\n",
    "\n",
    "trainer = Trainer(model_rest_duration, config['device'], train_loader, test_loader, criterion, optimizer, rest_duration_classes, rest_duration_tot_classes_test)"
   ]
  },
  {
   "cell_type": "code",
   "execution_count": 78,
   "metadata": {
    "collapsed": true
   },
   "outputs": [
    {
     "name": "stderr",
     "output_type": "stream",
     "text": [
      "100%|██████████| 1988/1988 [00:14<00:00, 139.39it/s]\n",
      "100%|██████████| 4636/4636 [00:31<00:00, 146.17it/s]\n",
      "  0%|          | 2/4636 [00:00<04:55, 15.68it/s]"
     ]
    },
    {
     "name": "stdout",
     "output_type": "stream",
     "text": [
      "Initial accuracy\n",
      "TEST: 0.4919517102615694\n",
      "TRAIN: 0.47627264883520276\n",
      "Classes: {'eighth': 0.9989785495403473, 'half': 0.0, 'quarter': 0.0, 'sixteenth': 0.0, 'whole': 0.0}\n"
     ]
    },
    {
     "name": "stderr",
     "output_type": "stream",
     "text": [
      "100%|██████████| 4636/4636 [05:00<00:00, 15.42it/s]\n",
      "100%|██████████| 1988/1988 [00:13<00:00, 148.27it/s]\n",
      "100%|██████████| 4636/4636 [00:36<00:00, 126.18it/s]\n",
      "  0%|          | 2/4636 [00:00<05:00, 15.40it/s]"
     ]
    },
    {
     "name": "stdout",
     "output_type": "stream",
     "text": [
      "\n",
      "Accuracy at epoch 1\n",
      "TEST: 0.8687122736418511\n",
      "TRAIN: 0.8718723037100949\n",
      "Classes: {'eighth': 1.0, 'half': 0.0, 'quarter': 0.9973333333333333, 'sixteenth': 0.0, 'whole': 0.0}\n"
     ]
    },
    {
     "name": "stderr",
     "output_type": "stream",
     "text": [
      "100%|██████████| 4636/4636 [05:01<00:00, 15.40it/s]\n",
      "100%|██████████| 1988/1988 [00:13<00:00, 143.14it/s]\n",
      "100%|██████████| 4636/4636 [00:35<00:00, 130.74it/s]\n",
      "  0%|          | 2/4636 [00:00<05:04, 15.22it/s]"
     ]
    },
    {
     "name": "stdout",
     "output_type": "stream",
     "text": [
      "\n",
      "Accuracy at epoch 2\n",
      "TEST: 0.9069416498993964\n",
      "TRAIN: 0.9165228645383952\n",
      "Classes: {'eighth': 0.9989785495403473, 'half': 0.0, 'quarter': 0.9933333333333333, 'sixteenth': 0.0, 'whole': 0.6153846153846154}\n"
     ]
    },
    {
     "name": "stderr",
     "output_type": "stream",
     "text": [
      "100%|██████████| 4636/4636 [05:00<00:00, 15.43it/s]\n",
      "100%|██████████| 1988/1988 [00:13<00:00, 144.41it/s]\n",
      "100%|██████████| 4636/4636 [00:31<00:00, 146.18it/s]\n",
      "  0%|          | 2/4636 [00:00<05:02, 15.33it/s]"
     ]
    },
    {
     "name": "stdout",
     "output_type": "stream",
     "text": [
      "\n",
      "Accuracy at epoch 3\n",
      "TEST: 0.9823943661971831\n",
      "TRAIN: 0.980802415875755\n",
      "Classes: {'eighth': 1.0, 'half': 0.8492063492063492, 'quarter': 0.992, 'sixteenth': 0.0, 'whole': 0.9461538461538461}\n"
     ]
    },
    {
     "name": "stderr",
     "output_type": "stream",
     "text": [
      "100%|██████████| 4636/4636 [05:00<00:00, 15.43it/s]\n",
      "100%|██████████| 1988/1988 [00:13<00:00, 144.92it/s]\n",
      "100%|██████████| 4636/4636 [00:33<00:00, 139.70it/s]\n",
      "  0%|          | 2/4636 [00:00<05:08, 15.04it/s]"
     ]
    },
    {
     "name": "stdout",
     "output_type": "stream",
     "text": [
      "\n",
      "Accuracy at epoch 4\n",
      "TEST: 0.9894366197183099\n",
      "TRAIN: 0.9892148403796376\n",
      "Classes: {'eighth': 1.0, 'half': 0.9444444444444444, 'quarter': 0.996, 'sixteenth': 0.0, 'whole': 0.9384615384615385}\n"
     ]
    },
    {
     "name": "stderr",
     "output_type": "stream",
     "text": [
      "100%|██████████| 4636/4636 [05:02<00:00, 15.34it/s]\n",
      "100%|██████████| 1988/1988 [00:13<00:00, 142.36it/s]\n",
      "100%|██████████| 4636/4636 [00:32<00:00, 144.14it/s]"
     ]
    },
    {
     "name": "stdout",
     "output_type": "stream",
     "text": [
      "\n",
      "Accuracy at epoch 5\n",
      "TEST: 0.9874245472837022\n",
      "TRAIN: 0.9879206212251941\n",
      "Classes: {'eighth': 1.0, 'half': 0.9761904761904762, 'quarter': 0.9893333333333333, 'sixteenth': 0.0, 'whole': 0.9153846153846154}\n"
     ]
    },
    {
     "name": "stderr",
     "output_type": "stream",
     "text": [
      "\n"
     ]
    }
   ],
   "source": [
    "# Getting loss\n",
    "train_losses = []\n",
    "test_losses = []\n",
    "\n",
    "# Getting accuracy\n",
    "train_accuracy = []\n",
    "test_accuracy = []\n",
    "\n",
    "trainer.train(epochs=config['epochs'])"
   ]
  },
  {
   "cell_type": "code",
   "execution_count": 79,
   "metadata": {},
   "outputs": [
    {
     "data": {
      "image/png": "[encoded data removed]",
      "text/plain": [
       "<Figure size 432x288 with 1 Axes>"
      ]
     },
     "metadata": {
      "needs_background": "light"
     },
     "output_type": "display_data"
    }
   ],
   "source": [
    "# plotting the training and test loss\n",
    "plt.plot(train_losses, label='Training loss')\n",
    "plt.plot(test_losses, label='Test loss')\n",
    "plt.legend()\n",
    "plt.show()"
   ]
  },
  {
   "cell_type": "code",
   "execution_count": 80,
   "metadata": {},
   "outputs": [
    {
     "data": {
      "image/png": "[encoded data removed]",
      "text/plain": [
       "<Figure size 432x288 with 1 Axes>"
      ]
     },
     "metadata": {
      "needs_background": "light"
     },
     "output_type": "display_data"
    }
   ],
   "source": [
    "# plotting the training and test accuracy\n",
    "plt.plot(train_accuracy, label='Training accuracy')\n",
    "plt.plot(test_accuracy, label='Test accuracy')\n",
    "plt.legend()\n",
    "plt.show()"
   ]
  },
  {
   "cell_type": "markdown",
   "metadata": {},
   "source": [
    "### Save and Load model"
   ]
  },
  {
   "cell_type": "code",
   "execution_count": 108,
   "metadata": {},
   "outputs": [],
   "source": [
    "# Save model to resume later\n",
    "PATH_TO_SAVE = \"model/model_rest_duration.pth\"\n",
    "\n",
    "torch.save(model_rest_duration.state_dict(), PATH_TO_SAVE)"
   ]
  },
  {
   "cell_type": "code",
   "execution_count": 30,
   "metadata": {
    "collapsed": true
   },
   "outputs": [
    {
     "data": {
      "text/plain": [
       "CNN_rest_duration(\n",
       "  (feat_extractor): Sequential(\n",
       "    (0): Conv2d(1, 64, kernel_size=(3, 3), stride=(1, 1))\n",
       "    (1): ReLU()\n",
       "    (2): BatchNorm2d(64, eps=1e-05, momentum=0.1, affine=True, track_running_stats=True)\n",
       "    (3): MaxPool2d(kernel_size=2, stride=2, padding=0, dilation=1, ceil_mode=False)\n",
       "    (4): Conv2d(64, 128, kernel_size=(3, 3), stride=(1, 1))\n",
       "    (5): ReLU()\n",
       "    (6): BatchNorm2d(128, eps=1e-05, momentum=0.1, affine=True, track_running_stats=True)\n",
       "    (7): MaxPool2d(kernel_size=2, stride=2, padding=0, dilation=1, ceil_mode=False)\n",
       "    (8): Conv2d(128, 256, kernel_size=(3, 3), stride=(1, 1))\n",
       "    (9): ReLU()\n",
       "    (10): BatchNorm2d(256, eps=1e-05, momentum=0.1, affine=True, track_running_stats=True)\n",
       "    (11): MaxPool2d(kernel_size=2, stride=2, padding=0, dilation=1, ceil_mode=False)\n",
       "  )\n",
       "  (classifier): Sequential(\n",
       "    (0): Linear(in_features=2048, out_features=1024, bias=True)\n",
       "    (1): ReLU()\n",
       "    (2): Linear(in_features=1024, out_features=1024, bias=True)\n",
       "    (3): ReLU()\n",
       "    (4): Linear(in_features=1024, out_features=5, bias=True)\n",
       "  )\n",
       ")"
      ]
     },
     "execution_count": 30,
     "metadata": {},
     "output_type": "execute_result"
    }
   ],
   "source": [
    "# Load model\n",
    "PATH_TO_SAVE = \"model/model_rest_duration_T.pth\"\n",
    "\n",
    "model_rest_duration.load_state_dict(torch.load(PATH_TO_SAVE, map_location=torch.device('cpu')))\n",
    "model_rest_duration.eval()"
   ]
  },
  {
   "cell_type": "markdown",
   "metadata": {},
   "source": [
    "## NOTE PITCH"
   ]
  },
  {
   "cell_type": "code",
   "execution_count": 31,
   "metadata": {},
   "outputs": [],
   "source": [
    "class CNN_note_pitch(nn.Module):\n",
    "    def __init__(self):\n",
    "        super().__init__()\n",
    "        self.feat_extractor = nn.Sequential(nn.Conv2d(1, 64, 3),\n",
    "                                            nn.ReLU(),\n",
    "                                            nn.BatchNorm2d(64),\n",
    "                                            nn.MaxPool2d(2),\n",
    "                                            nn.Conv2d(64, 128, 3),\n",
    "                                            nn.ReLU(),\n",
    "                                            nn.BatchNorm2d(128),\n",
    "                                            nn.MaxPool2d(2),\n",
    "                                            nn.Conv2d(128, 256, 3),\n",
    "                                            nn.ReLU(),\n",
    "                                            nn.BatchNorm2d(256),\n",
    "                                            nn.MaxPool2d(2)\n",
    "                                           )\n",
    "\n",
    "        self.classifier = nn.Sequential(nn.Linear(2 * 4 * 256, 1024),\n",
    "                                        nn.ReLU(),\n",
    "                                        nn.Linear(1024, 1024),\n",
    "                                        nn.ReLU(),\n",
    "                                        nn.Linear(1024, 17)) # 17 è il numero di classi\n",
    "\n",
    "    def forward(self, x):\n",
    "        x = self.feat_extractor(x)\n",
    "        n, c, h, w = x.shape\n",
    "        #print(c,h,w)\n",
    "        x = x.view(n, -1)\n",
    "        x = self.classifier(x)\n",
    "        return x"
   ]
  },
  {
   "cell_type": "code",
   "execution_count": 32,
   "metadata": {},
   "outputs": [],
   "source": [
    "# NOTE PITCH\n",
    "model_note_pitch = CNN_note_pitch()\n",
    "criterion = get_criterion()\n",
    "optimizer = get_optimizer(model_note_pitch)\n",
    "\n",
    "trainer = Trainer(model_note_pitch, config['device'], train_loader, test_loader, criterion, optimizer, note_pitch_classes, note_pitch_tot_classes_test)"
   ]
  },
  {
   "cell_type": "code",
   "execution_count": 222,
   "metadata": {
    "collapsed": true
   },
   "outputs": [
    {
     "name": "stderr",
     "output_type": "stream",
     "text": [
      "100%|██████████| 982/982 [00:07<00:00, 137.45it/s]\n",
      "100%|██████████| 2289/2289 [00:16<00:00, 142.01it/s]\n",
      "  0%|          | 2/2289 [00:00<02:46, 13.70it/s]"
     ]
    },
    {
     "name": "stdout",
     "output_type": "stream",
     "text": [
      "Initial accuracy\n",
      "TEST: 0.10488798370672098\n",
      "TRAIN: 0.09785932721712538\n",
      "Classes: {'a': 0.0, 'a1': 0.0, 'a2': 0.0, 'c1': 0.0, 'c2': 0.0, 'c3': 0.0, 'd1': 0.0, 'd2': 0.0, 'e1': 0.0, 'e2': 0.0, 'f1': 0.8879310344827587, 'f2': 0.0, 'g1': 0.0, 'g2': 0.0, 'h': 0.0, 'h1': 0.0, 'h2': 0.0}\n"
     ]
    },
    {
     "name": "stderr",
     "output_type": "stream",
     "text": [
      "100%|██████████| 2289/2289 [02:30<00:00, 15.21it/s]\n",
      "100%|██████████| 982/982 [00:06<00:00, 142.10it/s]\n",
      "100%|██████████| 2289/2289 [00:16<00:00, 142.77it/s]\n",
      "  0%|          | 2/2289 [00:00<02:32, 15.00it/s]"
     ]
    },
    {
     "name": "stdout",
     "output_type": "stream",
     "text": [
      "\n",
      "Accuracy at epoch 1\n",
      "TEST: 0.22912423625254583\n",
      "TRAIN: 0.25688073394495414\n",
      "Classes: {'a': 0.0, 'a1': 0.9661016949152542, 'a2': 0.0, 'c1': 0.0, 'c2': 0.0, 'c3': 0.0, 'd1': 0.0, 'd2': 0.0, 'e1': 0.0, 'e2': 0.0, 'f1': 0.0, 'f2': 0.0, 'g1': 0.11458333333333333, 'g2': 0.0, 'h': 0.0, 'h1': 0.9345794392523364, 'h2': 0.0}\n"
     ]
    },
    {
     "name": "stderr",
     "output_type": "stream",
     "text": [
      "100%|██████████| 2289/2289 [02:29<00:00, 15.32it/s]\n",
      "100%|██████████| 982/982 [00:07<00:00, 134.03it/s]\n",
      "100%|██████████| 2289/2289 [00:16<00:00, 139.46it/s]\n",
      "  0%|          | 2/2289 [00:00<02:35, 14.72it/s]"
     ]
    },
    {
     "name": "stdout",
     "output_type": "stream",
     "text": [
      "\n",
      "Accuracy at epoch 2\n",
      "TEST: 0.4592668024439919\n",
      "TRAIN: 0.4831804281345566\n",
      "Classes: {'a': 0.0, 'a1': 0.9152542372881356, 'a2': 0.0, 'c1': 0.0, 'c2': 0.0, 'c3': 0.0, 'd1': 0.0, 'd2': 0.0, 'e1': 0.890625, 'e2': 0.0, 'f1': 0.4396551724137931, 'f2': 0.0, 'g1': 0.8020833333333334, 'g2': 0.0, 'h': 0.0, 'h1': 0.9439252336448598, 'h2': 0.0}\n"
     ]
    },
    {
     "name": "stderr",
     "output_type": "stream",
     "text": [
      "100%|██████████| 2289/2289 [02:29<00:00, 15.36it/s]\n",
      "100%|██████████| 982/982 [00:06<00:00, 142.62it/s]\n",
      "100%|██████████| 2289/2289 [00:16<00:00, 142.56it/s]\n",
      "  0%|          | 2/2289 [00:00<02:31, 15.06it/s]"
     ]
    },
    {
     "name": "stdout",
     "output_type": "stream",
     "text": [
      "\n",
      "Accuracy at epoch 3\n",
      "TEST: 0.5122199592668024\n",
      "TRAIN: 0.5522062035823504\n",
      "Classes: {'a': 0.0, 'a1': 0.9322033898305084, 'a2': 0.0, 'c1': 0.0, 'c2': 0.0, 'c3': 0.0, 'd1': 0.0, 'd2': 0.0, 'e1': 0.8359375, 'e2': 0.0, 'f1': 0.8362068965517241, 'f2': 0.0, 'g1': 0.9270833333333334, 'g2': 0.0, 'h': 0.0, 'h1': 0.9345794392523364, 'h2': 0.0}\n"
     ]
    },
    {
     "name": "stderr",
     "output_type": "stream",
     "text": [
      "100%|██████████| 2289/2289 [02:36<00:00, 14.59it/s]\n",
      "100%|██████████| 982/982 [00:08<00:00, 118.95it/s]\n",
      "100%|██████████| 2289/2289 [00:16<00:00, 142.20it/s]\n",
      "  0%|          | 2/2289 [00:00<02:47, 13.61it/s]"
     ]
    },
    {
     "name": "stdout",
     "output_type": "stream",
     "text": [
      "\n",
      "Accuracy at epoch 4\n",
      "TEST: 0.6334012219959266\n",
      "TRAIN: 0.672346002621232\n",
      "Classes: {'a': 0.0, 'a1': 0.940677966101695, 'a2': 0.0, 'c1': 0.0, 'c2': 0.6666666666666666, 'c3': 0.0, 'd1': 0.0, 'd2': 0.6219512195121951, 'e1': 0.921875, 'e2': 0.0, 'f1': 0.9224137931034483, 'f2': 0.0, 'g1': 0.9270833333333334, 'g2': 0.0, 'h': 0.0, 'h1': 0.8598130841121495, 'h2': 0.0}\n"
     ]
    },
    {
     "name": "stderr",
     "output_type": "stream",
     "text": [
      "100%|██████████| 2289/2289 [02:29<00:00, 15.29it/s]\n",
      "100%|██████████| 982/982 [00:06<00:00, 146.83it/s]\n",
      "100%|██████████| 2289/2289 [00:16<00:00, 138.81it/s]"
     ]
    },
    {
     "name": "stdout",
     "output_type": "stream",
     "text": [
      "\n",
      "Accuracy at epoch 5\n",
      "TEST: 0.675152749490835\n",
      "TRAIN: 0.7068588903451288\n",
      "Classes: {'a': 0.0, 'a1': 0.9661016949152542, 'a2': 0.0, 'c1': 0.0, 'c2': 0.9135802469135802, 'c3': 0.0, 'd1': 0.0, 'd2': 0.8658536585365854, 'e1': 0.8984375, 'e2': 0.0, 'f1': 0.896551724137931, 'f2': 0.0, 'g1': 0.96875, 'g2': 0.0, 'h': 0.0, 'h1': 0.8598130841121495, 'h2': 0.0}\n"
     ]
    },
    {
     "name": "stderr",
     "output_type": "stream",
     "text": [
      "\n"
     ]
    }
   ],
   "source": [
    "# Getting loss\n",
    "train_losses = []\n",
    "test_losses = []\n",
    "\n",
    "# Getting accuracy\n",
    "train_accuracy = []\n",
    "test_accuracy = []\n",
    "\n",
    "trainer.train(epochs=config['epochs'])"
   ]
  },
  {
   "cell_type": "code",
   "execution_count": 223,
   "metadata": {
    "collapsed": true
   },
   "outputs": [
    {
     "data": {
      "image/png": "[encoded data removed]",
      "text/plain": [
       "<Figure size 432x288 with 1 Axes>"
      ]
     },
     "metadata": {
      "needs_background": "light"
     },
     "output_type": "display_data"
    }
   ],
   "source": [
    "# plotting the training and test loss\n",
    "plt.plot(train_losses, label='Training loss')\n",
    "plt.plot(test_losses, label='Test loss')\n",
    "plt.legend()\n",
    "plt.show()"
   ]
  },
  {
   "cell_type": "code",
   "execution_count": 224,
   "metadata": {},
   "outputs": [
    {
     "data": {
      "image/png": "[encoded data removed]",
      "text/plain": [
       "<Figure size 432x288 with 1 Axes>"
      ]
     },
     "metadata": {
      "needs_background": "light"
     },
     "output_type": "display_data"
    }
   ],
   "source": [
    "# plotting the training and test accuracy\n",
    "plt.plot(train_accuracy, label='Training accuracy')\n",
    "plt.plot(test_accuracy, label='Test accuracy')\n",
    "plt.legend()\n",
    "plt.show()"
   ]
  },
  {
   "cell_type": "markdown",
   "metadata": {},
   "source": [
    "### Save and Load model"
   ]
  },
  {
   "cell_type": "code",
   "execution_count": 225,
   "metadata": {},
   "outputs": [],
   "source": [
    "# Save model to resume later\n",
    "PATH_TO_SAVE = \"model/model_note_pitch.pth\"\n",
    "\n",
    "torch.save(model_note_pitch.state_dict(), PATH_TO_SAVE)"
   ]
  },
  {
   "cell_type": "code",
   "execution_count": 33,
   "metadata": {
    "collapsed": true
   },
   "outputs": [
    {
     "data": {
      "text/plain": [
       "CNN_note_pitch(\n",
       "  (feat_extractor): Sequential(\n",
       "    (0): Conv2d(1, 64, kernel_size=(3, 3), stride=(1, 1))\n",
       "    (1): ReLU()\n",
       "    (2): BatchNorm2d(64, eps=1e-05, momentum=0.1, affine=True, track_running_stats=True)\n",
       "    (3): MaxPool2d(kernel_size=2, stride=2, padding=0, dilation=1, ceil_mode=False)\n",
       "    (4): Conv2d(64, 128, kernel_size=(3, 3), stride=(1, 1))\n",
       "    (5): ReLU()\n",
       "    (6): BatchNorm2d(128, eps=1e-05, momentum=0.1, affine=True, track_running_stats=True)\n",
       "    (7): MaxPool2d(kernel_size=2, stride=2, padding=0, dilation=1, ceil_mode=False)\n",
       "    (8): Conv2d(128, 256, kernel_size=(3, 3), stride=(1, 1))\n",
       "    (9): ReLU()\n",
       "    (10): BatchNorm2d(256, eps=1e-05, momentum=0.1, affine=True, track_running_stats=True)\n",
       "    (11): MaxPool2d(kernel_size=2, stride=2, padding=0, dilation=1, ceil_mode=False)\n",
       "  )\n",
       "  (classifier): Sequential(\n",
       "    (0): Linear(in_features=2048, out_features=1024, bias=True)\n",
       "    (1): ReLU()\n",
       "    (2): Linear(in_features=1024, out_features=1024, bias=True)\n",
       "    (3): ReLU()\n",
       "    (4): Linear(in_features=1024, out_features=17, bias=True)\n",
       "  )\n",
       ")"
      ]
     },
     "execution_count": 33,
     "metadata": {},
     "output_type": "execute_result"
    }
   ],
   "source": [
    "# Load model\n",
    "PATH_TO_SAVE = \"model/model_note_pitch.pth\"\n",
    "\n",
    "model_note_pitch.load_state_dict(torch.load(PATH_TO_SAVE, map_location=torch.device('cpu')))\n",
    "model_note_pitch.eval()"
   ]
  },
  {
   "cell_type": "markdown",
   "metadata": {},
   "source": [
    "## Prediction test"
   ]
  },
  {
   "cell_type": "code",
   "execution_count": 43,
   "metadata": {},
   "outputs": [
    {
     "name": "stderr",
     "output_type": "stream",
     "text": [
      "100%|██████████| 979/979 [00:00<00:00, 2557.42it/s]\n"
     ]
    },
    {
     "name": "stdout",
     "output_type": "stream",
     "text": [
      "Truth:  tensor([0])\n",
      "Predicted:  tensor([0])\n",
      "torch.Size([1])\n"
     ]
    }
   ],
   "source": [
    "for images, labels in tqdm(test_loader, total=len(test_loader)):\n",
    "    \n",
    "    image_test = images\n",
    "    label_test = labels\n",
    "\n",
    "print(\"Truth: \", label_test)\n",
    "\n",
    "softmax_f = nn.Softmax(dim=1)\n",
    "output = softmax_f(model_note_duration(image_test))\n",
    "\n",
    "predicted = torch.max(output, dim=1)[1]  # argmax the output\n",
    "print(\"Predicted: \", predicted)\n",
    "print(predicted.shape)"
   ]
  },
  {
   "cell_type": "code",
   "execution_count": 46,
   "metadata": {
    "collapsed": true
   },
   "outputs": [
    {
     "name": "stdout",
     "output_type": "stream",
     "text": [
      "(tensor([[[1., 1., 1.,  ..., 1., 1., 1.],\n",
      "         [1., 1., 1.,  ..., 1., 1., 1.],\n",
      "         [1., 1., 1.,  ..., 1., 1., 1.],\n",
      "         ...,\n",
      "         [1., 1., 1.,  ..., 1., 1., 1.],\n",
      "         [1., 1., 1.,  ..., 1., 1., 1.],\n",
      "         [1., 1., 1.,  ..., 1., 1., 1.]]]), 1)\n"
     ]
    },
    {
     "data": {
      "image/png": "[encoded data removed]",
      "text/plain": [
       "<Figure size 432x288 with 1 Axes>"
      ]
     },
     "metadata": {
      "needs_background": "light"
     },
     "output_type": "display_data"
    },
    {
     "name": "stdout",
     "output_type": "stream",
     "text": [
      "torch.Size([1, 50, 30])\n",
      "Prediction:  tensor([1])\n",
      "Prediction 2:  1\n"
     ]
    }
   ],
   "source": [
    "\"\"\"\"\"\"\"\"\"\"\"\"\"\"\"\"\"\"\"\"\n",
    "img_sample = OMRDataset.__getitem__(test_dataset,222) #500, 83, 291, 123, 762, 493, 91\n",
    "print_sample(img_sample)\n",
    "print(img_sample[0].shape)\n",
    "img_sample = transformations(img_sample[0])\n",
    "img_sample = img_sample.unsqueeze(0)\n",
    "        \n",
    "softmax_f = nn.Softmax(dim=1)\n",
    "output = softmax_f(model_note_duration(img_sample))\n",
    "predicted = torch.max(output, dim=1)[1]  # argmax the output\n",
    "\n",
    "prediction2 = int(torch.max(output.data, 1)[1].numpy())\n",
    "\n",
    "print(\"Prediction: \", predicted)\n",
    "print(\"Prediction 2: \", prediction2)"
   ]
  },
  {
   "cell_type": "markdown",
   "metadata": {},
   "source": [
    "## Sliding window and Classification"
   ]
  },
  {
   "cell_type": "code",
   "execution_count": 34,
   "metadata": {},
   "outputs": [],
   "source": [
    "# Function to generate a SLIDING WINDOW over the image\n",
    "def sliding_window(image, stepSize, windowSize, count):        \n",
    "    # slide a window across the image\n",
    "    for y in range(0, image.shape[0], stepSize[1]):\n",
    "        for x in range(0, image.shape[1], stepSize[0]):\n",
    "            # yield the current window\n",
    "            yield (x, y, image[y:y + windowSize[1], x:x + windowSize[0]])"
   ]
  },
  {
   "cell_type": "code",
   "execution_count": 35,
   "metadata": {},
   "outputs": [],
   "source": [
    "# Transformations to be applied\n",
    "transformations_roi = transforms.Compose([transforms.ToPILImage(),\n",
    "                                          transforms.Resize((50,30)),\n",
    "                                          transforms.Grayscale(),\n",
    "                                          transforms.ToTensor(),\n",
    "                                          transforms.Normalize((0.5,), (0.5,))\n",
    "                                          #transforms.Normalize(mean=[0.485, 0.456, 0.406],\n",
    "                                                           #std=[0.229, 0.224, 0.225])\n",
    "                                         ])"
   ]
  },
  {
   "cell_type": "code",
   "execution_count": 53,
   "metadata": {},
   "outputs": [
    {
     "data": {
      "text/plain": [
       "-1"
      ]
     },
     "execution_count": 53,
     "metadata": {},
     "output_type": "execute_result"
    }
   ],
   "source": [
    "prediction_list = []\n",
    "\n",
    "# Music sheet files\n",
    "\n",
    "#image = cv2.imread(\"music_sheets/Test_random.jpg\")\n",
    "image = cv2.imread(\"music_sheets/Simphony40_Mozart.jpg\")\n",
    "#image = cv2.imread(\"music_sheets/Primavera_Vivaldi.jpg\")\n",
    "\n",
    "# Initial resize\n",
    "scale = 3\n",
    "w = int(image.shape[1] / scale)\n",
    "image = imutils.resize(image, width=w)\n",
    "\n",
    "# Dimensions of sliding window and stepSize\n",
    "(window_W, window_H) = (50, 70)\n",
    "(stepSize_W, stepSize_H) = (50, 58)\n",
    "\n",
    "count = 1\n",
    "\n",
    "# loop over the sliding window for each layer of the pyramid\n",
    "for (x, y, window) in sliding_window(image, stepSize=(stepSize_W, stepSize_H), windowSize=(window_W, window_H), count=count):\n",
    "    # if the window does not meet our desired window size, ignore it\n",
    "    if window.shape[0] != window_H or window.shape[1] != window_W:\n",
    "         continue\n",
    "        \n",
    "    # Process the window (Region Of Interest) applying the classifier to the content of the window\n",
    "    roi = image[y:y + window_H, x:x + window_W]        \n",
    "        \n",
    "    roi = transformations_roi(roi)\n",
    "    roi = roi.unsqueeze(0)\n",
    "    #print(roi.shape)\n",
    "    #print(count)\n",
    "    #print_sample(roi)\n",
    "    \n",
    "    pred_str = \"\"\n",
    "    \n",
    "    # Predict note or rest\n",
    "    softmax_f = nn.Softmax(dim=1)\n",
    "    output = softmax_f(model_note_rest(roi))\n",
    "    prediction = int(torch.max(output.data, 1)[1].numpy())\n",
    "    \n",
    "    if prediction == 0: # is a note\n",
    "        pred_str = \"note_\"\n",
    "        \n",
    "        # Predict duration\n",
    "        output = softmax_f(model_note_duration(roi))\n",
    "        prediction = int(torch.max(output.data, 1)[1].numpy())\n",
    "        if prediction == 0: pred_str += \"eighth_\"\n",
    "        elif prediction == 1: pred_str += \"half_\"\n",
    "        elif prediction == 2: pred_str += \"quarter_\"\n",
    "        elif prediction == 3: pred_str += \"sixteenth_\"\n",
    "        elif prediction == 4: pred_str += \"whole_\"\n",
    "            \n",
    "        # Predict pitch\n",
    "        output = softmax_f(model_note_pitch(roi))\n",
    "        prediction = int(torch.max(output.data, 1)[1].numpy())\n",
    "        if prediction == 0:  pred_str += \"a\"\n",
    "        elif prediction == 1: pred_str += \"a1\"\n",
    "        elif prediction == 2: pred_str += \"a2\"\n",
    "        elif prediction == 3: pred_str += \"c1\"\n",
    "        elif prediction == 4: pred_str += \"c2\"\n",
    "        elif prediction == 5: pred_str += \"c3\"\n",
    "        elif prediction == 6: pred_str += \"d1\"\n",
    "        elif prediction == 7: pred_str += \"d2\"\n",
    "        elif prediction == 8: pred_str += \"e1\"\n",
    "        elif prediction == 9: pred_str += \"e2\"\n",
    "        elif prediction == 10: pred_str += \"f1\"\n",
    "        elif prediction == 11: pred_str += \"f2\"\n",
    "        elif prediction == 12: pred_str += \"g1\"\n",
    "        elif prediction == 13: pred_str += \"g2\"\n",
    "        elif prediction == 14: pred_str += \"h\"\n",
    "        elif prediction == 15: pred_str += \"h1\"\n",
    "        elif prediction == 16: pred_str += \"h2\"\n",
    "        \n",
    "    else: # is a rest\n",
    "        pred_str = \"rest_\"\n",
    "            \n",
    "        output = softmax_f(model_rest_duration(roi))\n",
    "        prediction = int(torch.max(output.data, 1)[1].numpy())\n",
    "        if prediction == 0: pred_str += \"eighth\"\n",
    "        elif prediction == 1: pred_str += \"half\"\n",
    "        elif prediction == 2: pred_str += \"quarter\"\n",
    "        elif prediction == 3: pred_str += \"sixteenth\"\n",
    "        elif prediction == 4: pred_str += \"whole\"\n",
    "            \n",
    "    prediction_list.append(pred_str)\n",
    "    count += 1\n",
    "        \n",
    "    # Draw the window at each step\n",
    "    clone = image.copy()\n",
    "    cv2.rectangle(clone, (x, y), (x + window_W, y + window_H), (0, 255, 0), 2)\n",
    "    cv2.imshow(\"Optical Music Recognition\", clone)\n",
    "    cv2.waitKey(1)\n",
    "    time.sleep(0.025)\n",
    "    \n",
    "    if count > 191:\n",
    "        break\n",
    "    \n",
    "cv2.waitKey(0);\n",
    "cv2.destroyAllWindows();\n",
    "cv2.waitKey(1)"
   ]
  },
  {
   "cell_type": "code",
   "execution_count": 54,
   "metadata": {
    "scrolled": true
   },
   "outputs": [
    {
     "name": "stdout",
     "output_type": "stream",
     "text": [
      "1st STAFF\n",
      "['note_eighth_f1', 'note_sixteenth_e1', 'note_quarter_e1', 'note_eighth_f1', 'note_sixteenth_e1', 'note_quarter_g1', 'note_eighth_f1', 'note_sixteenth_e1', 'note_quarter_e1', 'note_quarter_c2', 'rest_quarter', 'note_eighth_c2', 'note_eighth_c2', 'note_quarter_a1', 'note_eighth_c1', 'note_eighth_g1', 'note_quarter_f1']\n",
      "\n",
      "2nd STAFF\n",
      "['note_eighth_f1', 'note_sixteenth_e1', 'note_half_d1', 'rest_quarter', 'note_sixteenth_g1', 'note_sixteenth_d1', 'note_quarter_d1', 'note_sixteenth_e1', 'note_sixteenth_d1', 'note_quarter_d1', 'note_sixteenth_e1', 'note_sixteenth_d1', 'note_quarter_d1', 'note_quarter_h1', 'rest_half', 'note_quarter_g1', 'note_quarter_g1']\n",
      "\n",
      "3rd STAFF\n",
      "['note_eighth_g1', 'note_eighth_f1', 'note_quarter_e1', 'note_sixteenth_e1', 'note_sixteenth_d1', 'note_quarter_c1', 'rest_quarter', 'rest_quarter', 'note_eighth_c2', 'note_sixteenth_h1', 'note_quarter_h1', 'note_sixteenth_d2', 'note_quarter_g1', 'note_quarter_h1', 'note_quarter_a1', 'note_half_c1', 'note_quarter_c1']\n",
      "\n",
      "4th STAFF\n",
      "['note_sixteenth_c2', 'note_sixteenth_h1', 'note_quarter_h1', 'note_quarter_d2', 'note_half_a1', 'note_quarter_h1', 'note_quarter_a1', 'note_quarter_c2', 'rest_half', 'note_eighth_a1', 'note_eighth_g1', 'note_sixteenth_f1', 'note_quarter_e1', 'note_sixteenth_f1', 'note_sixteenth_e1', 'note_quarter_e1', 'note_half_g1']\n"
     ]
    }
   ],
   "source": [
    "print(\"1st STAFF\")\n",
    "print(prediction_list[59:76]) # 1st staff\n",
    "print(\"\\n2nd STAFF\")\n",
    "print(prediction_list[97:114]) # 2nd staff\n",
    "print(\"\\n3rd STAFF\")\n",
    "print(prediction_list[135:152])  # 3rd staff\n",
    "print(\"\\n4th STAFF\")\n",
    "print(prediction_list[173:190])  # 4th staff\n",
    "\n",
    "#TERMINA A: 190 per \"Test random\"\n",
    "#           190 per \"Simphony n.40\"\n",
    "#           180 per \"La Primavera\"\n",
    "\n",
    "\n",
    "\n",
    "#print(\"\\n\")\n",
    "#print(prediction_list[211:228])  # 5th staff\n",
    "#print(\"\\n\")\n",
    "#print(prediction_list[249:266])  # 6th staff"
   ]
  },
  {
   "cell_type": "code",
   "execution_count": 55,
   "metadata": {},
   "outputs": [],
   "source": [
    "\"\"\" Simboli sul pentagramma: 17 scansioni \"\"\"\n",
    "\"\"\" Spazio tra pentagrammi: 19 scansioni + 1 della chiave \"\"\"\n",
    "        \n",
    "# Merge good predictions:\n",
    "prediction_list = prediction_list[59:76] + prediction_list[97:114] + prediction_list[135:152] + prediction_list[173:190]\n"
   ]
  },
  {
   "cell_type": "markdown",
   "metadata": {},
   "source": [
    "# Post-processing (Sonic Pi)"
   ]
  },
  {
   "cell_type": "markdown",
   "metadata": {},
   "source": [
    "### Run Sonic Pi"
   ]
  },
  {
   "cell_type": "code",
   "execution_count": 39,
   "metadata": {},
   "outputs": [
    {
     "data": {
      "text/plain": [
       "256"
      ]
     },
     "execution_count": 39,
     "metadata": {},
     "output_type": "execute_result"
    }
   ],
   "source": [
    "# run Sonic Pi on computer\n",
    "os.system(\"\"\"osascript -e 'tell app \"Sonic Pi\" to open'\"\"\")\n",
    "\n",
    "# subprocess.call([\"/usr/bin/open\", \"-W\", \"-n\", \"-a\", \"/Applications/Sonic Pi.app\"])"
   ]
  },
  {
   "cell_type": "code",
   "execution_count": 40,
   "metadata": {},
   "outputs": [],
   "source": [
    "from psonic import *"
   ]
  },
  {
   "cell_type": "code",
   "execution_count": 56,
   "metadata": {},
   "outputs": [],
   "source": [
    "for pred in prediction_list:\n",
    "    p = pred.split('_')\n",
    "    if p[0] == \"note\":\n",
    "        if p[2] == \"a\": play(A3)\n",
    "        elif p[2] == \"a1\": play(A4)\n",
    "        elif p[2] == \"a2\": play(A5)\n",
    "        elif p[2] == \"c1\": play(C4)\n",
    "        elif p[2] == \"c2\": play(C5)\n",
    "        elif p[2] == \"c3\": play(C6)\n",
    "        elif p[2] == \"d1\": play(D4)\n",
    "        elif p[2] == \"d2\": play(D5)\n",
    "        elif p[2] == \"e1\": play(E4)\n",
    "        elif p[2] == \"e2\": play(E5)\n",
    "        elif p[2] == \"f1\": play(F4)\n",
    "        elif p[2] == \"f2\": play(F5)\n",
    "        elif p[2] == \"g1\": play(G4)\n",
    "        elif p[2] == \"g2\": play(G5)\n",
    "        elif p[2] == \"h\": play(B3)\n",
    "        elif p[2] == \"h1\": play(B4)\n",
    "        elif p[2] == \"h2\": play(B5)\n",
    "        \n",
    "        if p[1] == \"eighth\": sleep(0.250)\n",
    "        elif p[1] == \"half\": sleep(1)\n",
    "        elif p[1] == \"quarter\": sleep(0.50)\n",
    "        elif p[1] == \"sixteenth\": sleep(0.125)\n",
    "        elif p[1] == \"whole\": sleep(2)\n",
    "            \n",
    "    else:\n",
    "        if p[1] == \"eighth\": sleep(0.250)\n",
    "        elif p[1] == \"half\": sleep(1)\n",
    "        elif p[1] == \"quarter\": sleep(0.50)\n",
    "        elif p[1] == \"sixteenth\": sleep(0.125)\n",
    "        elif p[1] == \"whole\": sleep(2)\n",
    "    \n",
    "# https://pypi.org/project/python-sonic/\n",
    "# https://github.com/gkvoelkl/python-sonic\n",
    "# https://musescore.com/sheetmusic/artists"
   ]
  },
  {
   "cell_type": "markdown",
   "metadata": {},
   "source": [
    "### Kill Sonic Pi"
   ]
  },
  {
   "cell_type": "code",
   "execution_count": 85,
   "metadata": {},
   "outputs": [
    {
     "data": {
      "text/plain": [
       "0"
      ]
     },
     "execution_count": 85,
     "metadata": {},
     "output_type": "execute_result"
    }
   ],
   "source": [
    "# kill Sonic Pi\n",
    "os.system(\"pkill Sonic Pi\")"
   ]
  },
  {
   "cell_type": "code",
   "execution_count": 34,
   "metadata": {},
   "outputs": [],
   "source": [
    "\"\"\"# Function to RESCALE the test image\n",
    "def pyramid(image, scale=1.3, minSize=(30, 30)):\n",
    "    # yield the original image\n",
    "    yield image\n",
    " \n",
    "    # keep looping over the pyramid\n",
    "    while True:\n",
    "        # compute the new dimensions of the image and resize it\n",
    "        w = int(image.shape[1] / scale)\n",
    "        image = imutils.resize(image, width=w)\n",
    " \n",
    "        # if the resized image is over the minimum size, stop\n",
    "        if image.shape[0] < minSize[1] or image.shape[1] < minSize[0]:\n",
    "            break\n",
    " \n",
    "        # yield the next image in the pyramid\n",
    "        yield image\"\"\""
   ]
  },
  {
   "cell_type": "code",
   "execution_count": 172,
   "metadata": {},
   "outputs": [],
   "source": [
    "\"\"\"list_notes = [] # prediction list\n",
    "\n",
    "image = cv2.imread(\"music_sheets/test2.jpg\") # music sheet file\n",
    "\n",
    "# Initial resize\n",
    "scale = 1.3\n",
    "w = int(image.shape[1] / scale)\n",
    "image = imutils.resize(image, width=w)\n",
    "\n",
    "(window_W, window_H) = (120, 200) # Dimensions of sliding window\n",
    "\n",
    "# loop over the image pyramid\n",
    "for resized in pyramid(image, scale=scale):\n",
    "    # loop over the sliding window for each layer of the pyramid\n",
    "    for (x, y, window) in sliding_window(resized, stepSize=140, windowSize=(window_W, window_H)):\n",
    "        # if the window does not meet our desired window size, ignore it\n",
    "        if window.shape[0] != window_H or window.shape[1] != window_W:\n",
    "            continue\n",
    "        \n",
    "        # Process the window (Region Of Interest) applying the classifier to the content of the window\n",
    "        roi = image[y:y + window_H, x:x + window_W]        \n",
    "        \n",
    "        roi = transformations_roi(roi)\n",
    "        roi = roi.unsqueeze(0)\n",
    "        #print(roi.shape)\n",
    "        #print_sample(roi)\n",
    "        \n",
    "        softmax_f = nn.Softmax(dim=1)\n",
    "        output = softmax_f(model(roi))\n",
    "        predicted = torch.max(output, dim=1)[1]  # argmax the output\n",
    "        list_notes.append(predicted)\n",
    "        #break\n",
    "        \n",
    "        # Draw the window at each step\n",
    "        clone = resized.copy()\n",
    "        cv2.rectangle(clone, (x, y), (x + window_W, y + window_H), (0, 255, 0), 2)\n",
    "        cv2.imshow(\"Optical Music Recognition\", clone)\n",
    "        cv2.waitKey(1)\n",
    "        time.sleep(0.025)\"\"\""
   ]
  }
 ],
 "metadata": {
  "kernelspec": {
   "display_name": "Python 3",
   "language": "python",
   "name": "python3"
  },
  "language_info": {
   "codemirror_mode": {
    "name": "ipython",
    "version": 3
   },
   "file_extension": ".py",
   "mimetype": "text/x-python",
   "name": "python",
   "nbconvert_exporter": "python",
   "pygments_lexer": "ipython3",
   "version": "3.7.7"
  }
 },
 "nbformat": 4,
 "nbformat_minor": 2
}
